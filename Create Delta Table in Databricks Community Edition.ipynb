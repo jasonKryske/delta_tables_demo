{
 "cells": [
  {
   "cell_type": "code",
   "execution_count": 0,
   "metadata": {
    "application/vnd.databricks.v1+cell": {
     "cellMetadata": {
      "byteLimit": 2048000,
      "rowLimit": 10000
     },
     "inputWidgets": {},
     "nuid": "4ea7892e-d154-4584-a7db-dabe49674e2b",
     "showTitle": false,
     "tableResultSettingsMap": {},
     "title": ""
    }
   },
   "outputs": [],
   "source": [
    "from pyspark.sql import *\n",
    "from pyspark.sql.types import IntegerType, StringType, DoubleType, StructField, StructType"
   ]
  },
  {
   "cell_type": "code",
   "execution_count": 0,
   "metadata": {
    "application/vnd.databricks.v1+cell": {
     "cellMetadata": {
      "byteLimit": 2048000,
      "rowLimit": 10000
     },
     "inputWidgets": {},
     "nuid": "c91183e4-cfec-4f4c-a70f-a90c15cab13a",
     "showTitle": false,
     "tableResultSettingsMap": {},
     "title": ""
    }
   },
   "outputs": [],
   "source": [
    "path = 'dbfs:/FileStore/sample_data/countries.csv'\n",
    "\n",
    "countries = (\n",
    "    spark.read\n",
    " .format('csv')\n",
    " .option('header','true')\n",
    " .option('inferschema', 'true') # Infer the schema initially when exploring the data, but define it in production pipelines\n",
    " .load(path)\n",
    ")"
   ]
  },
  {
   "cell_type": "code",
   "execution_count": 0,
   "metadata": {
    "application/vnd.databricks.v1+cell": {
     "cellMetadata": {
      "byteLimit": 2048000,
      "rowLimit": 10000
     },
     "inputWidgets": {},
     "nuid": "a3015a19-da1f-4fa0-b755-0bc841cc2f40",
     "showTitle": false,
     "tableResultSettingsMap": {},
     "title": ""
    }
   },
   "outputs": [
    {
     "output_type": "execute_result",
     "data": {
      "text/plain": [
       "[('COUNTRY_ID', 'int'),\n",
       " ('NAME', 'string'),\n",
       " ('NATIONALITY', 'string'),\n",
       " ('COUNTRY_CODE', 'string'),\n",
       " ('ISO_ALPHA2', 'string'),\n",
       " ('CAPITAL', 'string'),\n",
       " ('POPULATION', 'int'),\n",
       " ('AREA_KM2', 'double'),\n",
       " ('REGION_ID', 'int'),\n",
       " ('SUB_REGION_ID', 'int'),\n",
       " ('INTERMEDIATE_REGION_ID', 'int'),\n",
       " ('ORGANIZATION_REGION_ID', 'int')]"
      ]
     },
     "execution_count": 5,
     "metadata": {},
     "output_type": "execute_result"
    }
   ],
   "source": [
    "countries.dtypes"
   ]
  },
  {
   "cell_type": "code",
   "execution_count": 0,
   "metadata": {
    "application/vnd.databricks.v1+cell": {
     "cellMetadata": {
      "byteLimit": 2048000,
      "rowLimit": 10000
     },
     "inputWidgets": {},
     "nuid": "2cc06c50-b3c8-4063-84fc-c5325e496cee",
     "showTitle": false,
     "tableResultSettingsMap": {},
     "title": ""
    }
   },
   "outputs": [],
   "source": [
    "\n",
    "countries_schema = StructType([\n",
    "        StructField('COUNTRY_ID', IntegerType(), False),\n",
    "        StructField('NAME', StringType(), False),\n",
    "        StructField('NATIONALITY', StringType(),False),\n",
    "        StructField('COUNTRY_CODE', StringType(),False),\n",
    "        StructField('ISO_ALPHA2', StringType(),False),\n",
    "        StructField(\"CAPITAL\", StringType(), False),\n",
    "        StructField(\"POPULATION\", DoubleType(), False),\n",
    "        StructField(\"AREA_KM2\", IntegerType(), False),\n",
    "        StructField(\"REGION_ID\", IntegerType(), True),\n",
    "        StructField(\"SUB_REGION_ID\", IntegerType(), True),\n",
    "         StructField(\"INTERMEDIATE_REGION_ID\", IntegerType(), True),\n",
    "        StructField(\"ORGANIZATION_REGION_ID\", IntegerType(), True) \n",
    "        ])"
   ]
  },
  {
   "cell_type": "code",
   "execution_count": 0,
   "metadata": {
    "application/vnd.databricks.v1+cell": {
     "cellMetadata": {
      "byteLimit": 2048000,
      "rowLimit": 10000
     },
     "inputWidgets": {},
     "nuid": "66944ea4-bc79-4b5f-b332-d9da60520546",
     "showTitle": false,
     "tableResultSettingsMap": {},
     "title": ""
    }
   },
   "outputs": [],
   "source": [
    "countries = (\n",
    "spark.read\n",
    " .format('csv')\n",
    " .option('header','true')\n",
    " .schema(countries_schema)\n",
    " .load(path)\n",
    ")"
   ]
  },
  {
   "cell_type": "code",
   "execution_count": 0,
   "metadata": {
    "application/vnd.databricks.v1+cell": {
     "cellMetadata": {
      "byteLimit": 2048000,
      "rowLimit": 10000
     },
     "inputWidgets": {},
     "nuid": "c6908c7f-b5ea-416e-a961-46bd44d92406",
     "showTitle": false,
     "tableResultSettingsMap": {},
     "title": ""
    }
   },
   "outputs": [
    {
     "output_type": "display_data",
     "data": {
      "text/html": [
       "<style scoped>\n",
       "  .table-result-container {\n",
       "    max-height: 300px;\n",
       "    overflow: auto;\n",
       "  }\n",
       "  table, th, td {\n",
       "    border: 1px solid black;\n",
       "    border-collapse: collapse;\n",
       "  }\n",
       "  th, td {\n",
       "    padding: 5px;\n",
       "  }\n",
       "  th {\n",
       "    text-align: left;\n",
       "  }\n",
       "</style><div class='table-result-container'><table class='table-result'><thead style='background-color: white'><tr><th>COUNTRY_ID</th><th>NAME</th><th>NATIONALITY</th><th>COUNTRY_CODE</th><th>ISO_ALPHA2</th><th>CAPITAL</th><th>POPULATION</th><th>AREA_KM2</th><th>REGION_ID</th><th>SUB_REGION_ID</th><th>INTERMEDIATE_REGION_ID</th><th>ORGANIZATION_REGION_ID</th></tr></thead><tbody><tr><td>1</td><td>Afghanistan</td><td>Afghan</td><td>AFG</td><td>AF</td><td>Kabul</td><td>3.8041754E7</td><td>652230</td><td>30</td><td>30</td><td>null</td><td>30</td></tr><tr><td>2</td><td>Albania</td><td>Albanian</td><td>ALB</td><td>AL</td><td>Tirana</td><td>2880917.0</td><td>28748</td><td>20</td><td>70</td><td>null</td><td>20</td></tr><tr><td>3</td><td>Algeria</td><td>Algerian</td><td>DZA</td><td>DZ</td><td>Algiers</td><td>4.3053054E7</td><td>2381741</td><td>50</td><td>40</td><td>null</td><td>20</td></tr><tr><td>4</td><td>American Samoa</td><td>American Samoan</td><td>ASM</td><td>AS</td><td>Pago Pago</td><td>55312.0</td><td>199</td><td>40</td><td>20</td><td>null</td><td>30</td></tr><tr><td>5</td><td>Andorra</td><td>Andorran</td><td>AND</td><td>AD</td><td>Andorra la Vella</td><td>77142.0</td><td>468</td><td>20</td><td>70</td><td>null</td><td>20</td></tr></tbody></table></div>"
      ]
     },
     "metadata": {
      "application/vnd.databricks.v1+output": {
       "addedWidgets": {},
       "aggData": [],
       "aggError": "",
       "aggOverflow": false,
       "aggSchema": [],
       "aggSeriesLimitReached": false,
       "aggType": "",
       "arguments": {},
       "columnCustomDisplayInfos": {},
       "data": [
        [
         1,
         "Afghanistan",
         "Afghan",
         "AFG",
         "AF",
         "Kabul",
         3.8041754E7,
         652230,
         30,
         30,
         null,
         30
        ],
        [
         2,
         "Albania",
         "Albanian",
         "ALB",
         "AL",
         "Tirana",
         2880917.0,
         28748,
         20,
         70,
         null,
         20
        ],
        [
         3,
         "Algeria",
         "Algerian",
         "DZA",
         "DZ",
         "Algiers",
         4.3053054E7,
         2381741,
         50,
         40,
         null,
         20
        ],
        [
         4,
         "American Samoa",
         "American Samoan",
         "ASM",
         "AS",
         "Pago Pago",
         55312.0,
         199,
         40,
         20,
         null,
         30
        ],
        [
         5,
         "Andorra",
         "Andorran",
         "AND",
         "AD",
         "Andorra la Vella",
         77142.0,
         468,
         20,
         70,
         null,
         20
        ]
       ],
       "datasetInfos": [],
       "dbfsResultPath": null,
       "isJsonSchema": true,
       "metadata": {},
       "overflow": false,
       "plotOptions": {
        "customPlotOptions": {},
        "displayType": "table",
        "pivotAggregation": null,
        "pivotColumns": null,
        "xColumns": null,
        "yColumns": null
       },
       "removedWidgets": [],
       "schema": [
        {
         "metadata": "{}",
         "name": "COUNTRY_ID",
         "type": "\"integer\""
        },
        {
         "metadata": "{}",
         "name": "NAME",
         "type": "\"string\""
        },
        {
         "metadata": "{}",
         "name": "NATIONALITY",
         "type": "\"string\""
        },
        {
         "metadata": "{}",
         "name": "COUNTRY_CODE",
         "type": "\"string\""
        },
        {
         "metadata": "{}",
         "name": "ISO_ALPHA2",
         "type": "\"string\""
        },
        {
         "metadata": "{}",
         "name": "CAPITAL",
         "type": "\"string\""
        },
        {
         "metadata": "{}",
         "name": "POPULATION",
         "type": "\"double\""
        },
        {
         "metadata": "{}",
         "name": "AREA_KM2",
         "type": "\"integer\""
        },
        {
         "metadata": "{}",
         "name": "REGION_ID",
         "type": "\"integer\""
        },
        {
         "metadata": "{}",
         "name": "SUB_REGION_ID",
         "type": "\"integer\""
        },
        {
         "metadata": "{}",
         "name": "INTERMEDIATE_REGION_ID",
         "type": "\"integer\""
        },
        {
         "metadata": "{}",
         "name": "ORGANIZATION_REGION_ID",
         "type": "\"integer\""
        }
       ],
       "type": "table"
      }
     },
     "output_type": "display_data"
    }
   ],
   "source": [
    "display(countries.limit(5))"
   ]
  },
  {
   "cell_type": "code",
   "execution_count": 0,
   "metadata": {
    "application/vnd.databricks.v1+cell": {
     "cellMetadata": {
      "byteLimit": 2048000,
      "implicitDf": true,
      "rowLimit": 10000
     },
     "inputWidgets": {},
     "nuid": "d539e662-68ca-4240-8a13-9757636a1169",
     "showTitle": false,
     "tableResultSettingsMap": {},
     "title": ""
    }
   },
   "outputs": [
    {
     "output_type": "display_data",
     "data": {
      "text/html": [
       "<style scoped>\n",
       "  .table-result-container {\n",
       "    max-height: 300px;\n",
       "    overflow: auto;\n",
       "  }\n",
       "  table, th, td {\n",
       "    border: 1px solid black;\n",
       "    border-collapse: collapse;\n",
       "  }\n",
       "  th, td {\n",
       "    padding: 5px;\n",
       "  }\n",
       "  th {\n",
       "    text-align: left;\n",
       "  }\n",
       "</style><div class='table-result-container'><table class='table-result'><thead style='background-color: white'><tr></tr></thead><tbody></tbody></table></div>"
      ]
     },
     "metadata": {
      "application/vnd.databricks.v1+output": {
       "addedWidgets": {},
       "aggData": [],
       "aggError": "",
       "aggOverflow": false,
       "aggSchema": [],
       "aggSeriesLimitReached": false,
       "aggType": "",
       "arguments": {},
       "columnCustomDisplayInfos": {},
       "data": [],
       "datasetInfos": [],
       "dbfsResultPath": null,
       "isJsonSchema": true,
       "metadata": {
        "dataframeName": null
       },
       "overflow": false,
       "plotOptions": {
        "customPlotOptions": {},
        "displayType": "table",
        "pivotAggregation": null,
        "pivotColumns": null,
        "xColumns": null,
        "yColumns": null
       },
       "removedWidgets": [],
       "schema": [],
       "type": "table"
      }
     },
     "output_type": "display_data"
    }
   ],
   "source": [
    "%sql\n",
    "CREATE DATABASE IF NOT EXISTS locations_db;\n",
    "\n"
   ]
  },
  {
   "cell_type": "code",
   "execution_count": 0,
   "metadata": {
    "application/vnd.databricks.v1+cell": {
     "cellMetadata": {
      "byteLimit": 2048000,
      "rowLimit": 10000
     },
     "inputWidgets": {},
     "nuid": "bd01b85e-e4d1-4fe8-9982-e91098eb27b2",
     "showTitle": false,
     "tableResultSettingsMap": {},
     "title": ""
    }
   },
   "outputs": [],
   "source": [
    "spark.catalog.setCurrentDatabase(\"locations_db\")"
   ]
  },
  {
   "cell_type": "code",
   "execution_count": 0,
   "metadata": {
    "application/vnd.databricks.v1+cell": {
     "cellMetadata": {
      "byteLimit": 2048000,
      "rowLimit": 10000
     },
     "inputWidgets": {},
     "nuid": "040818e6-7633-4e3f-910c-18cf3a7e8feb",
     "showTitle": false,
     "tableResultSettingsMap": {},
     "title": ""
    }
   },
   "outputs": [],
   "source": [
    "countries.write.mode('overwrite').saveAsTable('countries')"
   ]
  },
  {
   "cell_type": "code",
   "execution_count": 0,
   "metadata": {
    "application/vnd.databricks.v1+cell": {
     "cellMetadata": {
      "byteLimit": 2048000,
      "implicitDf": true,
      "rowLimit": 10000
     },
     "inputWidgets": {},
     "nuid": "96444ddd-200b-4309-afbf-2c71984d14c9",
     "showTitle": false,
     "tableResultSettingsMap": {},
     "title": ""
    }
   },
   "outputs": [
    {
     "output_type": "display_data",
     "data": {
      "text/html": [
       "<style scoped>\n",
       "  .table-result-container {\n",
       "    max-height: 300px;\n",
       "    overflow: auto;\n",
       "  }\n",
       "  table, th, td {\n",
       "    border: 1px solid black;\n",
       "    border-collapse: collapse;\n",
       "  }\n",
       "  th, td {\n",
       "    padding: 5px;\n",
       "  }\n",
       "  th {\n",
       "    text-align: left;\n",
       "  }\n",
       "</style><div class='table-result-container'><table class='table-result'><thead style='background-color: white'><tr><th>col_name</th><th>data_type</th><th>comment</th></tr></thead><tbody><tr><td>COUNTRY_ID</td><td>int</td><td>null</td></tr><tr><td>NAME</td><td>string</td><td>null</td></tr><tr><td>NATIONALITY</td><td>string</td><td>null</td></tr><tr><td>COUNTRY_CODE</td><td>string</td><td>null</td></tr><tr><td>ISO_ALPHA2</td><td>string</td><td>null</td></tr><tr><td>CAPITAL</td><td>string</td><td>null</td></tr><tr><td>POPULATION</td><td>double</td><td>null</td></tr><tr><td>AREA_KM2</td><td>int</td><td>null</td></tr><tr><td>REGION_ID</td><td>int</td><td>null</td></tr><tr><td>SUB_REGION_ID</td><td>int</td><td>null</td></tr><tr><td>INTERMEDIATE_REGION_ID</td><td>int</td><td>null</td></tr><tr><td>ORGANIZATION_REGION_ID</td><td>int</td><td>null</td></tr><tr><td></td><td></td><td></td></tr><tr><td># Delta Statistics Columns</td><td></td><td></td></tr><tr><td>Column Names</td><td>COUNTRY_ID, NAME, COUNTRY_CODE, ORGANIZATION_REGION_ID, REGION_ID, CAPITAL, NATIONALITY, AREA_KM2, SUB_REGION_ID, INTERMEDIATE_REGION_ID, ISO_ALPHA2, POPULATION</td><td></td></tr><tr><td>Column Selection Method</td><td>first-32</td><td></td></tr><tr><td></td><td></td><td></td></tr><tr><td># Detailed Table Information</td><td></td><td></td></tr><tr><td>Catalog</td><td>spark_catalog</td><td></td></tr><tr><td>Database</td><td>locations_db</td><td></td></tr><tr><td>Table</td><td>countries</td><td></td></tr><tr><td>Created Time</td><td>Tue Apr 01 17:49:37 UTC 2025</td><td></td></tr><tr><td>Last Access</td><td>UNKNOWN</td><td></td></tr><tr><td>Created By</td><td>Spark 3.5.0</td><td></td></tr><tr><td>Statistics</td><td>17770 bytes</td><td></td></tr><tr><td>Type</td><td>MANAGED</td><td></td></tr><tr><td>Location</td><td>dbfs:/user/hive/warehouse/locations_db.db/countries</td><td></td></tr><tr><td>Provider</td><td>delta</td><td></td></tr><tr><td>Owner</td><td>root</td><td></td></tr><tr><td>Is_managed_location</td><td>true</td><td></td></tr><tr><td>Table Properties</td><td>[delta.minReaderVersion=1,delta.minWriterVersion=2]</td><td></td></tr></tbody></table></div>"
      ]
     },
     "metadata": {
      "application/vnd.databricks.v1+output": {
       "addedWidgets": {},
       "aggData": [],
       "aggError": "",
       "aggOverflow": false,
       "aggSchema": [],
       "aggSeriesLimitReached": false,
       "aggType": "",
       "arguments": {},
       "columnCustomDisplayInfos": {},
       "data": [
        [
         "COUNTRY_ID",
         "int",
         null
        ],
        [
         "NAME",
         "string",
         null
        ],
        [
         "NATIONALITY",
         "string",
         null
        ],
        [
         "COUNTRY_CODE",
         "string",
         null
        ],
        [
         "ISO_ALPHA2",
         "string",
         null
        ],
        [
         "CAPITAL",
         "string",
         null
        ],
        [
         "POPULATION",
         "double",
         null
        ],
        [
         "AREA_KM2",
         "int",
         null
        ],
        [
         "REGION_ID",
         "int",
         null
        ],
        [
         "SUB_REGION_ID",
         "int",
         null
        ],
        [
         "INTERMEDIATE_REGION_ID",
         "int",
         null
        ],
        [
         "ORGANIZATION_REGION_ID",
         "int",
         null
        ],
        [
         "",
         "",
         ""
        ],
        [
         "# Delta Statistics Columns",
         "",
         ""
        ],
        [
         "Column Names",
         "COUNTRY_ID, NAME, COUNTRY_CODE, ORGANIZATION_REGION_ID, REGION_ID, CAPITAL, NATIONALITY, AREA_KM2, SUB_REGION_ID, INTERMEDIATE_REGION_ID, ISO_ALPHA2, POPULATION",
         ""
        ],
        [
         "Column Selection Method",
         "first-32",
         ""
        ],
        [
         "",
         "",
         ""
        ],
        [
         "# Detailed Table Information",
         "",
         ""
        ],
        [
         "Catalog",
         "spark_catalog",
         ""
        ],
        [
         "Database",
         "locations_db",
         ""
        ],
        [
         "Table",
         "countries",
         ""
        ],
        [
         "Created Time",
         "Tue Apr 01 17:49:37 UTC 2025",
         ""
        ],
        [
         "Last Access",
         "UNKNOWN",
         ""
        ],
        [
         "Created By",
         "Spark 3.5.0",
         ""
        ],
        [
         "Statistics",
         "17770 bytes",
         ""
        ],
        [
         "Type",
         "MANAGED",
         ""
        ],
        [
         "Location",
         "dbfs:/user/hive/warehouse/locations_db.db/countries",
         ""
        ],
        [
         "Provider",
         "delta",
         ""
        ],
        [
         "Owner",
         "root",
         ""
        ],
        [
         "Is_managed_location",
         "true",
         ""
        ],
        [
         "Table Properties",
         "[delta.minReaderVersion=1,delta.minWriterVersion=2]",
         ""
        ]
       ],
       "datasetInfos": [],
       "dbfsResultPath": null,
       "isJsonSchema": true,
       "metadata": {
        "createTempViewForImplicitDf": true,
        "dataframeName": "_sqldf",
        "executionCount": 16
       },
       "overflow": false,
       "plotOptions": {
        "customPlotOptions": {},
        "displayType": "table",
        "pivotAggregation": null,
        "pivotColumns": null,
        "xColumns": null,
        "yColumns": null
       },
       "removedWidgets": [],
       "schema": [
        {
         "metadata": "{\"comment\":\"name of the column\"}",
         "name": "col_name",
         "type": "\"string\""
        },
        {
         "metadata": "{\"comment\":\"data type of the column\"}",
         "name": "data_type",
         "type": "\"string\""
        },
        {
         "metadata": "{\"comment\":\"comment of the column\"}",
         "name": "comment",
         "type": "\"string\""
        }
       ],
       "type": "table"
      }
     },
     "output_type": "display_data"
    }
   ],
   "source": [
    "%sql\n",
    "DESCRIBE EXTENDED locations_db.countries"
   ]
  }
 ],
 "metadata": {
  "application/vnd.databricks.v1+notebook": {
   "computePreferences": null,
   "dashboards": [],
   "environmentMetadata": {
    "base_environment": "",
    "environment_version": "1"
   },
   "inputWidgetPreferences": null,
   "language": "python",
   "notebookMetadata": {
    "mostRecentlyExecutedCommandWithImplicitDF": {
     "commandId": 1245142984949803,
     "dataframes": [
      "_sqldf"
     ]
    },
    "pythonIndentUnit": 4
   },
   "notebookName": "Create Delta Table in Databricks Community Edition",
   "widgets": {}
  }
 },
 "nbformat": 4,
 "nbformat_minor": 0
}