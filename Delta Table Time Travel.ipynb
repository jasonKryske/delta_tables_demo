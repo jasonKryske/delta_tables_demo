{
 "cells": [
  {
   "cell_type": "code",
   "execution_count": 0,
   "metadata": {
    "application/vnd.databricks.v1+cell": {
     "cellMetadata": {
      "byteLimit": 2048000,
      "implicitDf": true,
      "rowLimit": 10000
     },
     "inputWidgets": {},
     "nuid": "1229a17a-826e-4a65-b338-130d86a18ce3",
     "showTitle": false,
     "tableResultSettingsMap": {},
     "title": ""
    }
   },
   "outputs": [
    {
     "output_type": "display_data",
     "data": {
      "text/html": [
       "<style scoped>\n",
       "  .table-result-container {\n",
       "    max-height: 300px;\n",
       "    overflow: auto;\n",
       "  }\n",
       "  table, th, td {\n",
       "    border: 1px solid black;\n",
       "    border-collapse: collapse;\n",
       "  }\n",
       "  th, td {\n",
       "    padding: 5px;\n",
       "  }\n",
       "  th {\n",
       "    text-align: left;\n",
       "  }\n",
       "</style><div class='table-result-container'><table class='table-result'><thead style='background-color: white'><tr></tr></thead><tbody></tbody></table></div>"
      ]
     },
     "metadata": {
      "application/vnd.databricks.v1+output": {
       "addedWidgets": {},
       "aggData": [],
       "aggError": "",
       "aggOverflow": false,
       "aggSchema": [],
       "aggSeriesLimitReached": false,
       "aggType": "",
       "arguments": {},
       "columnCustomDisplayInfos": {},
       "data": [],
       "datasetInfos": [],
       "dbfsResultPath": null,
       "isJsonSchema": true,
       "metadata": {
        "dataframeName": null
       },
       "overflow": false,
       "plotOptions": {
        "customPlotOptions": {},
        "displayType": "table",
        "pivotAggregation": null,
        "pivotColumns": null,
        "xColumns": null,
        "yColumns": null
       },
       "removedWidgets": [],
       "schema": [],
       "type": "table"
      }
     },
     "output_type": "display_data"
    }
   ],
   "source": [
    "%sql\n",
    "USE locations_db"
   ]
  },
  {
   "cell_type": "code",
   "execution_count": 0,
   "metadata": {
    "application/vnd.databricks.v1+cell": {
     "cellMetadata": {
      "byteLimit": 2048000,
      "implicitDf": true,
      "rowLimit": 10000
     },
     "inputWidgets": {},
     "nuid": "b5c7ed61-0be5-4cba-9015-cda2db34d4bb",
     "showTitle": false,
     "tableResultSettingsMap": {},
     "title": ""
    }
   },
   "outputs": [
    {
     "output_type": "display_data",
     "data": {
      "text/html": [
       "<style scoped>\n",
       "  .table-result-container {\n",
       "    max-height: 300px;\n",
       "    overflow: auto;\n",
       "  }\n",
       "  table, th, td {\n",
       "    border: 1px solid black;\n",
       "    border-collapse: collapse;\n",
       "  }\n",
       "  th, td {\n",
       "    padding: 5px;\n",
       "  }\n",
       "  th {\n",
       "    text-align: left;\n",
       "  }\n",
       "</style><div class='table-result-container'><table class='table-result'><thead style='background-color: white'><tr><th>version</th><th>timestamp</th><th>userId</th><th>userName</th><th>operation</th><th>operationParameters</th><th>job</th><th>notebook</th><th>clusterId</th><th>readVersion</th><th>isolationLevel</th><th>isBlindAppend</th><th>operationMetrics</th><th>userMetadata</th><th>engineInfo</th></tr></thead><tbody><tr><td>6</td><td>2025-04-02T17:50:28Z</td><td>2825233798269217</td><td>jason.kryske@gmail.com</td><td>MERGE</td><td>Map(predicate -> [\"(COUNTRY_ID#22685 = COUNTRY_ID#22697)\"], matchedPredicates -> [{\"actionType\":\"update\"}], statsOnLoad -> false, notMatchedBySourcePredicates -> [], notMatchedPredicates -> [{\"actionType\":\"insert\"}])</td><td>null</td><td>List(4499977809891074)</td><td>0402-155845-gw4ljb2d</td><td>5</td><td>WriteSerializable</td><td>false</td><td>Map(numTargetRowsCopied -> 57, numTargetRowsDeleted -> 0, numTargetFilesAdded -> 2, numTargetBytesAdded -> 21579, numTargetBytesRemoved -> 12833, numTargetDeletionVectorsAdded -> 0, numTargetRowsMatchedUpdated -> 102, executionTimeMs -> 4956, materializeSourceTimeMs -> 3, numTargetRowsInserted -> 90, numTargetRowsMatchedDeleted -> 0, numTargetDeletionVectorsUpdated -> 0, scanTimeMs -> 2427, numTargetRowsUpdated -> 102, numOutputRows -> 249, numTargetDeletionVectorsRemoved -> 0, numTargetRowsNotMatchedBySourceUpdated -> 0, numTargetChangeFilesAdded -> 0, numSourceRows -> 192, numTargetFilesRemoved -> 1, numTargetRowsNotMatchedBySourceDeleted -> 0, rewriteTimeMs -> 2359)</td><td>null</td><td>Databricks-Runtime/15.4.x-scala2.12</td></tr><tr><td>5</td><td>2025-04-02T17:50:09Z</td><td>2825233798269217</td><td>jason.kryske@gmail.com</td><td>CREATE OR REPLACE TABLE AS SELECT</td><td>Map(partitionBy -> [], clusterBy -> [], description -> null, isManaged -> true, properties -> {}, statsOnLoad -> false)</td><td>null</td><td>List(4499977809891074)</td><td>0402-155845-gw4ljb2d</td><td>4</td><td>WriteSerializable</td><td>false</td><td>Map(numFiles -> 1, numOutputRows -> 159, numOutputBytes -> 12833)</td><td>null</td><td>Databricks-Runtime/15.4.x-scala2.12</td></tr><tr><td>4</td><td>2025-04-02T16:57:25Z</td><td>2825233798269217</td><td>jason.kryske@gmail.com</td><td>MERGE</td><td>Map(predicate -> [\"(COUNTRY_ID#17032 = COUNTRY_ID#17056)\"], matchedPredicates -> [{\"actionType\":\"update\"}], statsOnLoad -> false, notMatchedBySourcePredicates -> [], notMatchedPredicates -> [{\"actionType\":\"insert\"}])</td><td>null</td><td>List(4499977809891074)</td><td>0402-155845-gw4ljb2d</td><td>3</td><td>WriteSerializable</td><td>false</td><td>Map(numTargetRowsCopied -> 57, numTargetRowsDeleted -> 0, numTargetFilesAdded -> 2, numTargetBytesAdded -> 21643, numTargetBytesRemoved -> 12833, numTargetDeletionVectorsAdded -> 0, numTargetRowsMatchedUpdated -> 102, executionTimeMs -> 5575, materializeSourceTimeMs -> 5, numTargetRowsInserted -> 90, numTargetRowsMatchedDeleted -> 0, numTargetDeletionVectorsUpdated -> 0, scanTimeMs -> 2308, numTargetRowsUpdated -> 102, numOutputRows -> 249, numTargetDeletionVectorsRemoved -> 0, numTargetRowsNotMatchedBySourceUpdated -> 0, numTargetChangeFilesAdded -> 0, numSourceRows -> 192, numTargetFilesRemoved -> 1, numTargetRowsNotMatchedBySourceDeleted -> 0, rewriteTimeMs -> 3083)</td><td>null</td><td>Databricks-Runtime/15.4.x-scala2.12</td></tr><tr><td>3</td><td>2025-04-02T16:57:07Z</td><td>2825233798269217</td><td>jason.kryske@gmail.com</td><td>CREATE OR REPLACE TABLE AS SELECT</td><td>Map(partitionBy -> [], clusterBy -> [], description -> null, isManaged -> true, properties -> {}, statsOnLoad -> false)</td><td>null</td><td>List(4499977809891074)</td><td>0402-155845-gw4ljb2d</td><td>2</td><td>WriteSerializable</td><td>false</td><td>Map(numFiles -> 1, numOutputRows -> 159, numOutputBytes -> 12833)</td><td>null</td><td>Databricks-Runtime/15.4.x-scala2.12</td></tr><tr><td>2</td><td>2025-04-02T16:49:45Z</td><td>2825233798269217</td><td>jason.kryske@gmail.com</td><td>MERGE</td><td>Map(predicate -> [\"(COUNTRY_ID#11764 = COUNTRY_ID#11776)\"], matchedPredicates -> [{\"actionType\":\"update\"}], statsOnLoad -> false, notMatchedBySourcePredicates -> [], notMatchedPredicates -> [{\"actionType\":\"insert\"}])</td><td>null</td><td>List(4499977809891074)</td><td>0402-155845-gw4ljb2d</td><td>1</td><td>WriteSerializable</td><td>false</td><td>Map(numTargetRowsCopied -> 57, numTargetRowsDeleted -> 0, numTargetFilesAdded -> 2, numTargetBytesAdded -> 21579, numTargetBytesRemoved -> 12833, numTargetDeletionVectorsAdded -> 0, numTargetRowsMatchedUpdated -> 102, executionTimeMs -> 10828, materializeSourceTimeMs -> 9, numTargetRowsInserted -> 90, numTargetRowsMatchedDeleted -> 0, numTargetDeletionVectorsUpdated -> 0, scanTimeMs -> 5150, numTargetRowsUpdated -> 102, numOutputRows -> 249, numTargetDeletionVectorsRemoved -> 0, numTargetRowsNotMatchedBySourceUpdated -> 0, numTargetChangeFilesAdded -> 0, numSourceRows -> 192, numTargetFilesRemoved -> 1, numTargetRowsNotMatchedBySourceDeleted -> 0, rewriteTimeMs -> 5297)</td><td>null</td><td>Databricks-Runtime/15.4.x-scala2.12</td></tr><tr><td>1</td><td>2025-04-02T16:28:39Z</td><td>2825233798269217</td><td>jason.kryske@gmail.com</td><td>CREATE OR REPLACE TABLE AS SELECT</td><td>Map(partitionBy -> [], clusterBy -> [], description -> null, isManaged -> true, properties -> {}, statsOnLoad -> false)</td><td>null</td><td>List(4499977809891074)</td><td>0402-155845-gw4ljb2d</td><td>0</td><td>WriteSerializable</td><td>false</td><td>Map(numFiles -> 1, numOutputRows -> 159, numOutputBytes -> 12833)</td><td>null</td><td>Databricks-Runtime/15.4.x-scala2.12</td></tr><tr><td>0</td><td>2025-04-02T16:25:38Z</td><td>2825233798269217</td><td>jason.kryske@gmail.com</td><td>CREATE OR REPLACE TABLE AS SELECT</td><td>Map(partitionBy -> [], clusterBy -> [], description -> null, isManaged -> true, properties -> {}, statsOnLoad -> false)</td><td>null</td><td>List(4499977809891074)</td><td>0402-155845-gw4ljb2d</td><td>null</td><td>WriteSerializable</td><td>false</td><td>Map(numFiles -> 1, numOutputRows -> 159, numOutputBytes -> 12833)</td><td>null</td><td>Databricks-Runtime/15.4.x-scala2.12</td></tr></tbody></table></div>"
      ]
     },
     "metadata": {
      "application/vnd.databricks.v1+output": {
       "addedWidgets": {},
       "aggData": [],
       "aggError": "",
       "aggOverflow": false,
       "aggSchema": [],
       "aggSeriesLimitReached": false,
       "aggType": "",
       "arguments": {},
       "columnCustomDisplayInfos": {},
       "data": [
        [
         6,
         "2025-04-02T17:50:28Z",
         "2825233798269217",
         "jason.kryske@gmail.com",
         "MERGE",
         {
          "matchedPredicates": "[{\"actionType\":\"update\"}]",
          "notMatchedBySourcePredicates": "[]",
          "notMatchedPredicates": "[{\"actionType\":\"insert\"}]",
          "predicate": "[\"(COUNTRY_ID#22685 = COUNTRY_ID#22697)\"]",
          "statsOnLoad": "false"
         },
         null,
         [
          "4499977809891074"
         ],
         "0402-155845-gw4ljb2d",
         5,
         "WriteSerializable",
         false,
         {
          "executionTimeMs": "4956",
          "materializeSourceTimeMs": "3",
          "numOutputRows": "249",
          "numSourceRows": "192",
          "numTargetBytesAdded": "21579",
          "numTargetBytesRemoved": "12833",
          "numTargetChangeFilesAdded": "0",
          "numTargetDeletionVectorsAdded": "0",
          "numTargetDeletionVectorsRemoved": "0",
          "numTargetDeletionVectorsUpdated": "0",
          "numTargetFilesAdded": "2",
          "numTargetFilesRemoved": "1",
          "numTargetRowsCopied": "57",
          "numTargetRowsDeleted": "0",
          "numTargetRowsInserted": "90",
          "numTargetRowsMatchedDeleted": "0",
          "numTargetRowsMatchedUpdated": "102",
          "numTargetRowsNotMatchedBySourceDeleted": "0",
          "numTargetRowsNotMatchedBySourceUpdated": "0",
          "numTargetRowsUpdated": "102",
          "rewriteTimeMs": "2359",
          "scanTimeMs": "2427"
         },
         null,
         "Databricks-Runtime/15.4.x-scala2.12"
        ],
        [
         5,
         "2025-04-02T17:50:09Z",
         "2825233798269217",
         "jason.kryske@gmail.com",
         "CREATE OR REPLACE TABLE AS SELECT",
         {
          "clusterBy": "[]",
          "description": null,
          "isManaged": "true",
          "partitionBy": "[]",
          "properties": "{}",
          "statsOnLoad": "false"
         },
         null,
         [
          "4499977809891074"
         ],
         "0402-155845-gw4ljb2d",
         4,
         "WriteSerializable",
         false,
         {
          "numFiles": "1",
          "numOutputBytes": "12833",
          "numOutputRows": "159"
         },
         null,
         "Databricks-Runtime/15.4.x-scala2.12"
        ],
        [
         4,
         "2025-04-02T16:57:25Z",
         "2825233798269217",
         "jason.kryske@gmail.com",
         "MERGE",
         {
          "matchedPredicates": "[{\"actionType\":\"update\"}]",
          "notMatchedBySourcePredicates": "[]",
          "notMatchedPredicates": "[{\"actionType\":\"insert\"}]",
          "predicate": "[\"(COUNTRY_ID#17032 = COUNTRY_ID#17056)\"]",
          "statsOnLoad": "false"
         },
         null,
         [
          "4499977809891074"
         ],
         "0402-155845-gw4ljb2d",
         3,
         "WriteSerializable",
         false,
         {
          "executionTimeMs": "5575",
          "materializeSourceTimeMs": "5",
          "numOutputRows": "249",
          "numSourceRows": "192",
          "numTargetBytesAdded": "21643",
          "numTargetBytesRemoved": "12833",
          "numTargetChangeFilesAdded": "0",
          "numTargetDeletionVectorsAdded": "0",
          "numTargetDeletionVectorsRemoved": "0",
          "numTargetDeletionVectorsUpdated": "0",
          "numTargetFilesAdded": "2",
          "numTargetFilesRemoved": "1",
          "numTargetRowsCopied": "57",
          "numTargetRowsDeleted": "0",
          "numTargetRowsInserted": "90",
          "numTargetRowsMatchedDeleted": "0",
          "numTargetRowsMatchedUpdated": "102",
          "numTargetRowsNotMatchedBySourceDeleted": "0",
          "numTargetRowsNotMatchedBySourceUpdated": "0",
          "numTargetRowsUpdated": "102",
          "rewriteTimeMs": "3083",
          "scanTimeMs": "2308"
         },
         null,
         "Databricks-Runtime/15.4.x-scala2.12"
        ],
        [
         3,
         "2025-04-02T16:57:07Z",
         "2825233798269217",
         "jason.kryske@gmail.com",
         "CREATE OR REPLACE TABLE AS SELECT",
         {
          "clusterBy": "[]",
          "description": null,
          "isManaged": "true",
          "partitionBy": "[]",
          "properties": "{}",
          "statsOnLoad": "false"
         },
         null,
         [
          "4499977809891074"
         ],
         "0402-155845-gw4ljb2d",
         2,
         "WriteSerializable",
         false,
         {
          "numFiles": "1",
          "numOutputBytes": "12833",
          "numOutputRows": "159"
         },
         null,
         "Databricks-Runtime/15.4.x-scala2.12"
        ],
        [
         2,
         "2025-04-02T16:49:45Z",
         "2825233798269217",
         "jason.kryske@gmail.com",
         "MERGE",
         {
          "matchedPredicates": "[{\"actionType\":\"update\"}]",
          "notMatchedBySourcePredicates": "[]",
          "notMatchedPredicates": "[{\"actionType\":\"insert\"}]",
          "predicate": "[\"(COUNTRY_ID#11764 = COUNTRY_ID#11776)\"]",
          "statsOnLoad": "false"
         },
         null,
         [
          "4499977809891074"
         ],
         "0402-155845-gw4ljb2d",
         1,
         "WriteSerializable",
         false,
         {
          "executionTimeMs": "10828",
          "materializeSourceTimeMs": "9",
          "numOutputRows": "249",
          "numSourceRows": "192",
          "numTargetBytesAdded": "21579",
          "numTargetBytesRemoved": "12833",
          "numTargetChangeFilesAdded": "0",
          "numTargetDeletionVectorsAdded": "0",
          "numTargetDeletionVectorsRemoved": "0",
          "numTargetDeletionVectorsUpdated": "0",
          "numTargetFilesAdded": "2",
          "numTargetFilesRemoved": "1",
          "numTargetRowsCopied": "57",
          "numTargetRowsDeleted": "0",
          "numTargetRowsInserted": "90",
          "numTargetRowsMatchedDeleted": "0",
          "numTargetRowsMatchedUpdated": "102",
          "numTargetRowsNotMatchedBySourceDeleted": "0",
          "numTargetRowsNotMatchedBySourceUpdated": "0",
          "numTargetRowsUpdated": "102",
          "rewriteTimeMs": "5297",
          "scanTimeMs": "5150"
         },
         null,
         "Databricks-Runtime/15.4.x-scala2.12"
        ],
        [
         1,
         "2025-04-02T16:28:39Z",
         "2825233798269217",
         "jason.kryske@gmail.com",
         "CREATE OR REPLACE TABLE AS SELECT",
         {
          "clusterBy": "[]",
          "description": null,
          "isManaged": "true",
          "partitionBy": "[]",
          "properties": "{}",
          "statsOnLoad": "false"
         },
         null,
         [
          "4499977809891074"
         ],
         "0402-155845-gw4ljb2d",
         0,
         "WriteSerializable",
         false,
         {
          "numFiles": "1",
          "numOutputBytes": "12833",
          "numOutputRows": "159"
         },
         null,
         "Databricks-Runtime/15.4.x-scala2.12"
        ],
        [
         0,
         "2025-04-02T16:25:38Z",
         "2825233798269217",
         "jason.kryske@gmail.com",
         "CREATE OR REPLACE TABLE AS SELECT",
         {
          "clusterBy": "[]",
          "description": null,
          "isManaged": "true",
          "partitionBy": "[]",
          "properties": "{}",
          "statsOnLoad": "false"
         },
         null,
         [
          "4499977809891074"
         ],
         "0402-155845-gw4ljb2d",
         null,
         "WriteSerializable",
         false,
         {
          "numFiles": "1",
          "numOutputBytes": "12833",
          "numOutputRows": "159"
         },
         null,
         "Databricks-Runtime/15.4.x-scala2.12"
        ]
       ],
       "datasetInfos": [],
       "dbfsResultPath": null,
       "isJsonSchema": true,
       "metadata": {
        "createTempViewForImplicitDf": true,
        "dataframeName": "_sqldf",
        "executionCount": 8
       },
       "overflow": false,
       "plotOptions": {
        "customPlotOptions": {},
        "displayType": "table",
        "pivotAggregation": null,
        "pivotColumns": null,
        "xColumns": null,
        "yColumns": null
       },
       "removedWidgets": [],
       "schema": [
        {
         "metadata": "{}",
         "name": "version",
         "type": "\"long\""
        },
        {
         "metadata": "{}",
         "name": "timestamp",
         "type": "\"timestamp\""
        },
        {
         "metadata": "{}",
         "name": "userId",
         "type": "\"string\""
        },
        {
         "metadata": "{}",
         "name": "userName",
         "type": "\"string\""
        },
        {
         "metadata": "{}",
         "name": "operation",
         "type": "\"string\""
        },
        {
         "metadata": "{}",
         "name": "operationParameters",
         "type": "{\"type\":\"map\",\"keyType\":\"string\",\"valueType\":\"string\",\"valueContainsNull\":true}"
        },
        {
         "metadata": "{}",
         "name": "job",
         "type": "{\"type\":\"struct\",\"fields\":[{\"name\":\"jobId\",\"type\":\"string\",\"nullable\":true,\"metadata\":{}},{\"name\":\"jobName\",\"type\":\"string\",\"nullable\":true,\"metadata\":{}},{\"name\":\"jobRunId\",\"type\":\"string\",\"nullable\":true,\"metadata\":{}},{\"name\":\"runId\",\"type\":\"string\",\"nullable\":true,\"metadata\":{}},{\"name\":\"jobOwnerId\",\"type\":\"string\",\"nullable\":true,\"metadata\":{}},{\"name\":\"triggerType\",\"type\":\"string\",\"nullable\":true,\"metadata\":{}}]}"
        },
        {
         "metadata": "{}",
         "name": "notebook",
         "type": "{\"type\":\"struct\",\"fields\":[{\"name\":\"notebookId\",\"type\":\"string\",\"nullable\":true,\"metadata\":{}}]}"
        },
        {
         "metadata": "{}",
         "name": "clusterId",
         "type": "\"string\""
        },
        {
         "metadata": "{}",
         "name": "readVersion",
         "type": "\"long\""
        },
        {
         "metadata": "{}",
         "name": "isolationLevel",
         "type": "\"string\""
        },
        {
         "metadata": "{}",
         "name": "isBlindAppend",
         "type": "\"boolean\""
        },
        {
         "metadata": "{}",
         "name": "operationMetrics",
         "type": "{\"type\":\"map\",\"keyType\":\"string\",\"valueType\":\"string\",\"valueContainsNull\":true}"
        },
        {
         "metadata": "{}",
         "name": "userMetadata",
         "type": "\"string\""
        },
        {
         "metadata": "{}",
         "name": "engineInfo",
         "type": "\"string\""
        }
       ],
       "type": "table"
      }
     },
     "output_type": "display_data"
    }
   ],
   "source": [
    "%sql\n",
    "DESCRIBE HISTORY countries_1"
   ]
  },
  {
   "cell_type": "markdown",
   "metadata": {
    "application/vnd.databricks.v1+cell": {
     "cellMetadata": {},
     "inputWidgets": {},
     "nuid": "283d1df1-1f30-4b5d-a9ad-f78c8f1c6fe5",
     "showTitle": false,
     "tableResultSettingsMap": {},
     "title": ""
    }
   },
   "source": [
    "## SQL"
   ]
  },
  {
   "cell_type": "code",
   "execution_count": 0,
   "metadata": {
    "application/vnd.databricks.v1+cell": {
     "cellMetadata": {
      "byteLimit": 2048000,
      "implicitDf": true,
      "rowLimit": 10000
     },
     "inputWidgets": {},
     "nuid": "25ebe007-ab7b-41a8-88ff-a3b71697076e",
     "showTitle": false,
     "tableResultSettingsMap": {},
     "title": ""
    }
   },
   "outputs": [
    {
     "output_type": "display_data",
     "data": {
      "text/html": [
       "<style scoped>\n",
       "  .table-result-container {\n",
       "    max-height: 300px;\n",
       "    overflow: auto;\n",
       "  }\n",
       "  table, th, td {\n",
       "    border: 1px solid black;\n",
       "    border-collapse: collapse;\n",
       "  }\n",
       "  th, td {\n",
       "    padding: 5px;\n",
       "  }\n",
       "  th {\n",
       "    text-align: left;\n",
       "  }\n",
       "</style><div class='table-result-container'><table class='table-result'><thead style='background-color: white'><tr><th>COUNTRY_ID</th><th>NAME</th><th>NATIONALITY</th><th>COUNTRY_CODE</th><th>ISO_ALPHA2</th><th>CAPITAL</th><th>POPULATION</th><th>AREA_KM2</th><th>REGION_ID</th><th>SUB_REGION_ID</th><th>INTERMEDIATE_REGION_ID</th><th>ORGANIZATION_REGION_ID</th></tr></thead><tbody><tr><td>1</td><td>Afghanistan</td><td>Afghan</td><td>AFG</td><td>AF</td><td>Kabul</td><td>3.8041754E7</td><td>652230</td><td>30</td><td>30</td><td>null</td><td>30</td></tr><tr><td>2</td><td>Albania</td><td>Albanian</td><td>ALB</td><td>AL</td><td>Tirana</td><td>2880917.0</td><td>28748</td><td>20</td><td>70</td><td>null</td><td>20</td></tr><tr><td>5</td><td>Andorra</td><td>Andorran</td><td>AND</td><td>AD</td><td>Andorra la Vella</td><td>77142.0</td><td>468</td><td>20</td><td>70</td><td>null</td><td>20</td></tr><tr><td>7</td><td>Anguilla</td><td>Anguillan</td><td>AIA</td><td>AI</td><td>The Valley</td><td>14869.0</td><td>91</td><td>10</td><td>10</td><td>60</td><td>40</td></tr><tr><td>9</td><td>Antigua and Barbuda</td><td>Antiguan or Barbudan</td><td>ATG</td><td>AG</td><td>St. John's</td><td>97118.0</td><td>442</td><td>10</td><td>10</td><td>60</td><td>40</td></tr><tr><td>10</td><td>Argentina</td><td>Argentine</td><td>ARG</td><td>AR</td><td>Buenos Aires</td><td>4.4780677E7</td><td>2780400</td><td>10</td><td>10</td><td>40</td><td>40</td></tr><tr><td>11</td><td>Armenia</td><td>Armenian</td><td>ARM</td><td>AM</td><td>Yerevan</td><td>2957731.0</td><td>29743</td><td>30</td><td>170</td><td>null</td><td>30</td></tr><tr><td>12</td><td>Aruba</td><td>Aruban</td><td>ABW</td><td>AW</td><td>Oranjestad</td><td>106314.0</td><td>180</td><td>10</td><td>10</td><td>60</td><td>40</td></tr><tr><td>14</td><td>Austria</td><td>Austrian</td><td>AUT</td><td>AT</td><td>Vienna</td><td>8955102.0</td><td>83871</td><td>20</td><td>150</td><td>null</td><td>20</td></tr><tr><td>15</td><td>Azerbaijan</td><td>Azerbaijani</td><td>AZE</td><td>AZ</td><td>Baku</td><td>1.0047718E7</td><td>86600</td><td>30</td><td>170</td><td>null</td><td>30</td></tr></tbody></table></div>"
      ]
     },
     "metadata": {
      "application/vnd.databricks.v1+output": {
       "addedWidgets": {},
       "aggData": [],
       "aggError": "",
       "aggOverflow": false,
       "aggSchema": [],
       "aggSeriesLimitReached": false,
       "aggType": "",
       "arguments": {},
       "columnCustomDisplayInfos": {},
       "data": [
        [
         1,
         "Afghanistan",
         "Afghan",
         "AFG",
         "AF",
         "Kabul",
         3.8041754E7,
         652230,
         30,
         30,
         null,
         30
        ],
        [
         2,
         "Albania",
         "Albanian",
         "ALB",
         "AL",
         "Tirana",
         2880917.0,
         28748,
         20,
         70,
         null,
         20
        ],
        [
         5,
         "Andorra",
         "Andorran",
         "AND",
         "AD",
         "Andorra la Vella",
         77142.0,
         468,
         20,
         70,
         null,
         20
        ],
        [
         7,
         "Anguilla",
         "Anguillan",
         "AIA",
         "AI",
         "The Valley",
         14869.0,
         91,
         10,
         10,
         60,
         40
        ],
        [
         9,
         "Antigua and Barbuda",
         "Antiguan or Barbudan",
         "ATG",
         "AG",
         "St. John's",
         97118.0,
         442,
         10,
         10,
         60,
         40
        ],
        [
         10,
         "Argentina",
         "Argentine",
         "ARG",
         "AR",
         "Buenos Aires",
         4.4780677E7,
         2780400,
         10,
         10,
         40,
         40
        ],
        [
         11,
         "Armenia",
         "Armenian",
         "ARM",
         "AM",
         "Yerevan",
         2957731.0,
         29743,
         30,
         170,
         null,
         30
        ],
        [
         12,
         "Aruba",
         "Aruban",
         "ABW",
         "AW",
         "Oranjestad",
         106314.0,
         180,
         10,
         10,
         60,
         40
        ],
        [
         14,
         "Austria",
         "Austrian",
         "AUT",
         "AT",
         "Vienna",
         8955102.0,
         83871,
         20,
         150,
         null,
         20
        ],
        [
         15,
         "Azerbaijan",
         "Azerbaijani",
         "AZE",
         "AZ",
         "Baku",
         1.0047718E7,
         86600,
         30,
         170,
         null,
         30
        ]
       ],
       "datasetInfos": [],
       "dbfsResultPath": null,
       "isJsonSchema": true,
       "metadata": {
        "createTempViewForImplicitDf": true,
        "dataframeName": "_sqldf",
        "executionCount": 10
       },
       "overflow": false,
       "plotOptions": {
        "customPlotOptions": {},
        "displayType": "table",
        "pivotAggregation": null,
        "pivotColumns": null,
        "xColumns": null,
        "yColumns": null
       },
       "removedWidgets": [],
       "schema": [
        {
         "metadata": "{}",
         "name": "COUNTRY_ID",
         "type": "\"integer\""
        },
        {
         "metadata": "{}",
         "name": "NAME",
         "type": "\"string\""
        },
        {
         "metadata": "{}",
         "name": "NATIONALITY",
         "type": "\"string\""
        },
        {
         "metadata": "{}",
         "name": "COUNTRY_CODE",
         "type": "\"string\""
        },
        {
         "metadata": "{}",
         "name": "ISO_ALPHA2",
         "type": "\"string\""
        },
        {
         "metadata": "{}",
         "name": "CAPITAL",
         "type": "\"string\""
        },
        {
         "metadata": "{}",
         "name": "POPULATION",
         "type": "\"double\""
        },
        {
         "metadata": "{}",
         "name": "AREA_KM2",
         "type": "\"integer\""
        },
        {
         "metadata": "{}",
         "name": "REGION_ID",
         "type": "\"integer\""
        },
        {
         "metadata": "{}",
         "name": "SUB_REGION_ID",
         "type": "\"integer\""
        },
        {
         "metadata": "{}",
         "name": "INTERMEDIATE_REGION_ID",
         "type": "\"integer\""
        },
        {
         "metadata": "{}",
         "name": "ORGANIZATION_REGION_ID",
         "type": "\"integer\""
        }
       ],
       "type": "table"
      }
     },
     "output_type": "display_data"
    }
   ],
   "source": [
    "%sql\n",
    "select * from countries_1 VERSION AS OF 1\n",
    "\n",
    "limit 10"
   ]
  },
  {
   "cell_type": "code",
   "execution_count": 0,
   "metadata": {
    "application/vnd.databricks.v1+cell": {
     "cellMetadata": {
      "byteLimit": 2048000,
      "implicitDf": true,
      "rowLimit": 10000
     },
     "inputWidgets": {},
     "nuid": "5c51f4fc-7db1-4795-b332-dacb4758b4aa",
     "showTitle": false,
     "tableResultSettingsMap": {},
     "title": ""
    }
   },
   "outputs": [
    {
     "output_type": "display_data",
     "data": {
      "text/html": [
       "<style scoped>\n",
       "  .table-result-container {\n",
       "    max-height: 300px;\n",
       "    overflow: auto;\n",
       "  }\n",
       "  table, th, td {\n",
       "    border: 1px solid black;\n",
       "    border-collapse: collapse;\n",
       "  }\n",
       "  th, td {\n",
       "    padding: 5px;\n",
       "  }\n",
       "  th {\n",
       "    text-align: left;\n",
       "  }\n",
       "</style><div class='table-result-container'><table class='table-result'><thead style='background-color: white'><tr><th>COUNTRY_ID</th><th>NAME</th><th>NATIONALITY</th><th>COUNTRY_CODE</th><th>ISO_ALPHA2</th><th>CAPITAL</th><th>POPULATION</th><th>AREA_KM2</th><th>REGION_ID</th><th>SUB_REGION_ID</th><th>INTERMEDIATE_REGION_ID</th><th>ORGANIZATION_REGION_ID</th></tr></thead><tbody><tr><td>7</td><td>Anguilla</td><td>Anguillan</td><td>AIA</td><td>AI</td><td>The Valley</td><td>14869.0</td><td>91</td><td>10</td><td>10</td><td>60</td><td>40</td></tr><tr><td>9</td><td>Antigua and Barbuda</td><td>Antiguan or Barbudan</td><td>ATG</td><td>AG</td><td>St. John's</td><td>97118.0</td><td>442</td><td>10</td><td>10</td><td>60</td><td>40</td></tr><tr><td>10</td><td>Argentina</td><td>Argentine</td><td>ARG</td><td>AR</td><td>Buenos Aires</td><td>4.4780677E7</td><td>2780400</td><td>10</td><td>10</td><td>40</td><td>40</td></tr><tr><td>12</td><td>Aruba</td><td>Aruban</td><td>ABW</td><td>AW</td><td>Oranjestad</td><td>106314.0</td><td>180</td><td>10</td><td>10</td><td>60</td><td>40</td></tr><tr><td>16</td><td>Bahamas</td><td>Bahamian</td><td>BHS</td><td>BS</td><td>Nassau</td><td>389482.0</td><td>13943</td><td>10</td><td>10</td><td>60</td><td>40</td></tr><tr><td>19</td><td>Barbados</td><td>Barbadian</td><td>BRB</td><td>BB</td><td>Bridgetown</td><td>287025.0</td><td>430</td><td>10</td><td>10</td><td>60</td><td>40</td></tr><tr><td>22</td><td>Belize</td><td>Belizean</td><td>BLZ</td><td>BZ</td><td>Belmopan</td><td>390353.0</td><td>22966</td><td>10</td><td>10</td><td>20</td><td>40</td></tr><tr><td>24</td><td>Bermuda</td><td>Bermudian</td><td>BMU</td><td>BM</td><td>Hamilton</td><td>62506.0</td><td>54</td><td>10</td><td>80</td><td>null</td><td>40</td></tr><tr><td>26</td><td>Bolivia (Plurinational State of)</td><td>Bolivian</td><td>BOL</td><td>BO</td><td>Sucre</td><td>1.15131E7</td><td>1098581</td><td>10</td><td>10</td><td>40</td><td>40</td></tr><tr><td>27</td><td>Bonaire, Sint Eustatius and Saba</td><td>Sint Eustatius and Saba</td><td>BES</td><td>BQ</td><td>Kralendijk</td><td>25711.0</td><td>328</td><td>10</td><td>10</td><td>null</td><td>40</td></tr></tbody></table></div>"
      ]
     },
     "metadata": {
      "application/vnd.databricks.v1+output": {
       "addedWidgets": {},
       "aggData": [],
       "aggError": "",
       "aggOverflow": false,
       "aggSchema": [],
       "aggSeriesLimitReached": false,
       "aggType": "",
       "arguments": {},
       "columnCustomDisplayInfos": {},
       "data": [
        [
         7,
         "Anguilla",
         "Anguillan",
         "AIA",
         "AI",
         "The Valley",
         14869.0,
         91,
         10,
         10,
         60,
         40
        ],
        [
         9,
         "Antigua and Barbuda",
         "Antiguan or Barbudan",
         "ATG",
         "AG",
         "St. John's",
         97118.0,
         442,
         10,
         10,
         60,
         40
        ],
        [
         10,
         "Argentina",
         "Argentine",
         "ARG",
         "AR",
         "Buenos Aires",
         4.4780677E7,
         2780400,
         10,
         10,
         40,
         40
        ],
        [
         12,
         "Aruba",
         "Aruban",
         "ABW",
         "AW",
         "Oranjestad",
         106314.0,
         180,
         10,
         10,
         60,
         40
        ],
        [
         16,
         "Bahamas",
         "Bahamian",
         "BHS",
         "BS",
         "Nassau",
         389482.0,
         13943,
         10,
         10,
         60,
         40
        ],
        [
         19,
         "Barbados",
         "Barbadian",
         "BRB",
         "BB",
         "Bridgetown",
         287025.0,
         430,
         10,
         10,
         60,
         40
        ],
        [
         22,
         "Belize",
         "Belizean",
         "BLZ",
         "BZ",
         "Belmopan",
         390353.0,
         22966,
         10,
         10,
         20,
         40
        ],
        [
         24,
         "Bermuda",
         "Bermudian",
         "BMU",
         "BM",
         "Hamilton",
         62506.0,
         54,
         10,
         80,
         null,
         40
        ],
        [
         26,
         "Bolivia (Plurinational State of)",
         "Bolivian",
         "BOL",
         "BO",
         "Sucre",
         1.15131E7,
         1098581,
         10,
         10,
         40,
         40
        ],
        [
         27,
         "Bonaire, Sint Eustatius and Saba",
         "Sint Eustatius and Saba",
         "BES",
         "BQ",
         "Kralendijk",
         25711.0,
         328,
         10,
         10,
         null,
         40
        ]
       ],
       "datasetInfos": [],
       "dbfsResultPath": null,
       "isJsonSchema": true,
       "metadata": {
        "createTempViewForImplicitDf": true,
        "dataframeName": "_sqldf",
        "executionCount": 13
       },
       "overflow": false,
       "plotOptions": {
        "customPlotOptions": {},
        "displayType": "table",
        "pivotAggregation": null,
        "pivotColumns": null,
        "xColumns": null,
        "yColumns": null
       },
       "removedWidgets": [],
       "schema": [
        {
         "metadata": "{}",
         "name": "COUNTRY_ID",
         "type": "\"integer\""
        },
        {
         "metadata": "{}",
         "name": "NAME",
         "type": "\"string\""
        },
        {
         "metadata": "{}",
         "name": "NATIONALITY",
         "type": "\"string\""
        },
        {
         "metadata": "{}",
         "name": "COUNTRY_CODE",
         "type": "\"string\""
        },
        {
         "metadata": "{}",
         "name": "ISO_ALPHA2",
         "type": "\"string\""
        },
        {
         "metadata": "{}",
         "name": "CAPITAL",
         "type": "\"string\""
        },
        {
         "metadata": "{}",
         "name": "POPULATION",
         "type": "\"double\""
        },
        {
         "metadata": "{}",
         "name": "AREA_KM2",
         "type": "\"integer\""
        },
        {
         "metadata": "{}",
         "name": "REGION_ID",
         "type": "\"integer\""
        },
        {
         "metadata": "{}",
         "name": "SUB_REGION_ID",
         "type": "\"integer\""
        },
        {
         "metadata": "{}",
         "name": "INTERMEDIATE_REGION_ID",
         "type": "\"integer\""
        },
        {
         "metadata": "{}",
         "name": "ORGANIZATION_REGION_ID",
         "type": "\"integer\""
        }
       ],
       "type": "table"
      }
     },
     "output_type": "display_data"
    }
   ],
   "source": [
    "%sql\n",
    "select * from countries_1 timestamp as of '2025-04-02T16:57:25'\n",
    "\n",
    "limit 10"
   ]
  },
  {
   "cell_type": "markdown",
   "metadata": {
    "application/vnd.databricks.v1+cell": {
     "cellMetadata": {},
     "inputWidgets": {},
     "nuid": "b6da1693-5824-4f24-a8e6-33930360c263",
     "showTitle": false,
     "tableResultSettingsMap": {},
     "title": ""
    }
   },
   "source": [
    "\n",
    "### Python"
   ]
  },
  {
   "cell_type": "code",
   "execution_count": 0,
   "metadata": {
    "application/vnd.databricks.v1+cell": {
     "cellMetadata": {
      "byteLimit": 2048000,
      "rowLimit": 10000
     },
     "inputWidgets": {},
     "nuid": "8abf8940-b040-47b7-b231-eeef102361d7",
     "showTitle": false,
     "tableResultSettingsMap": {},
     "title": ""
    }
   },
   "outputs": [
    {
     "output_type": "display_data",
     "data": {
      "text/html": [
       "<style scoped>\n",
       "  .table-result-container {\n",
       "    max-height: 300px;\n",
       "    overflow: auto;\n",
       "  }\n",
       "  table, th, td {\n",
       "    border: 1px solid black;\n",
       "    border-collapse: collapse;\n",
       "  }\n",
       "  th, td {\n",
       "    padding: 5px;\n",
       "  }\n",
       "  th {\n",
       "    text-align: left;\n",
       "  }\n",
       "</style><div class='table-result-container'><table class='table-result'><thead style='background-color: white'><tr><th>COUNTRY_ID</th><th>NAME</th><th>NATIONALITY</th><th>COUNTRY_CODE</th><th>ISO_ALPHA2</th><th>CAPITAL</th><th>POPULATION</th><th>AREA_KM2</th><th>REGION_ID</th><th>SUB_REGION_ID</th><th>INTERMEDIATE_REGION_ID</th><th>ORGANIZATION_REGION_ID</th></tr></thead><tbody><tr><td>1</td><td>Afghanistan</td><td>Afghan</td><td>AFG</td><td>AF</td><td>Kabul</td><td>3.8041754E7</td><td>652230</td><td>30</td><td>30</td><td>null</td><td>30</td></tr><tr><td>2</td><td>Albania</td><td>Albanian</td><td>ALB</td><td>AL</td><td>Tirana</td><td>2880917.0</td><td>28748</td><td>20</td><td>70</td><td>null</td><td>20</td></tr><tr><td>5</td><td>Andorra</td><td>Andorran</td><td>AND</td><td>AD</td><td>Andorra la Vella</td><td>77142.0</td><td>468</td><td>20</td><td>70</td><td>null</td><td>20</td></tr><tr><td>7</td><td>Anguilla</td><td>Anguillan</td><td>AIA</td><td>AI</td><td>The Valley</td><td>14869.0</td><td>91</td><td>10</td><td>10</td><td>60</td><td>40</td></tr><tr><td>9</td><td>Antigua and Barbuda</td><td>Antiguan or Barbudan</td><td>ATG</td><td>AG</td><td>St. John's</td><td>97118.0</td><td>442</td><td>10</td><td>10</td><td>60</td><td>40</td></tr><tr><td>10</td><td>Argentina</td><td>Argentine</td><td>ARG</td><td>AR</td><td>Buenos Aires</td><td>4.4780677E7</td><td>2780400</td><td>10</td><td>10</td><td>40</td><td>40</td></tr><tr><td>11</td><td>Armenia</td><td>Armenian</td><td>ARM</td><td>AM</td><td>Yerevan</td><td>2957731.0</td><td>29743</td><td>30</td><td>170</td><td>null</td><td>30</td></tr><tr><td>12</td><td>Aruba</td><td>Aruban</td><td>ABW</td><td>AW</td><td>Oranjestad</td><td>106314.0</td><td>180</td><td>10</td><td>10</td><td>60</td><td>40</td></tr><tr><td>14</td><td>Austria</td><td>Austrian</td><td>AUT</td><td>AT</td><td>Vienna</td><td>8955102.0</td><td>83871</td><td>20</td><td>150</td><td>null</td><td>20</td></tr><tr><td>15</td><td>Azerbaijan</td><td>Azerbaijani</td><td>AZE</td><td>AZ</td><td>Baku</td><td>1.0047718E7</td><td>86600</td><td>30</td><td>170</td><td>null</td><td>30</td></tr></tbody></table></div>"
      ]
     },
     "metadata": {
      "application/vnd.databricks.v1+output": {
       "addedWidgets": {},
       "aggData": [],
       "aggError": "",
       "aggOverflow": false,
       "aggSchema": [],
       "aggSeriesLimitReached": false,
       "aggType": "",
       "arguments": {},
       "columnCustomDisplayInfos": {},
       "data": [
        [
         1,
         "Afghanistan",
         "Afghan",
         "AFG",
         "AF",
         "Kabul",
         3.8041754E7,
         652230,
         30,
         30,
         null,
         30
        ],
        [
         2,
         "Albania",
         "Albanian",
         "ALB",
         "AL",
         "Tirana",
         2880917.0,
         28748,
         20,
         70,
         null,
         20
        ],
        [
         5,
         "Andorra",
         "Andorran",
         "AND",
         "AD",
         "Andorra la Vella",
         77142.0,
         468,
         20,
         70,
         null,
         20
        ],
        [
         7,
         "Anguilla",
         "Anguillan",
         "AIA",
         "AI",
         "The Valley",
         14869.0,
         91,
         10,
         10,
         60,
         40
        ],
        [
         9,
         "Antigua and Barbuda",
         "Antiguan or Barbudan",
         "ATG",
         "AG",
         "St. John's",
         97118.0,
         442,
         10,
         10,
         60,
         40
        ],
        [
         10,
         "Argentina",
         "Argentine",
         "ARG",
         "AR",
         "Buenos Aires",
         4.4780677E7,
         2780400,
         10,
         10,
         40,
         40
        ],
        [
         11,
         "Armenia",
         "Armenian",
         "ARM",
         "AM",
         "Yerevan",
         2957731.0,
         29743,
         30,
         170,
         null,
         30
        ],
        [
         12,
         "Aruba",
         "Aruban",
         "ABW",
         "AW",
         "Oranjestad",
         106314.0,
         180,
         10,
         10,
         60,
         40
        ],
        [
         14,
         "Austria",
         "Austrian",
         "AUT",
         "AT",
         "Vienna",
         8955102.0,
         83871,
         20,
         150,
         null,
         20
        ],
        [
         15,
         "Azerbaijan",
         "Azerbaijani",
         "AZE",
         "AZ",
         "Baku",
         1.0047718E7,
         86600,
         30,
         170,
         null,
         30
        ]
       ],
       "datasetInfos": [],
       "dbfsResultPath": null,
       "isJsonSchema": true,
       "metadata": {},
       "overflow": false,
       "plotOptions": {
        "customPlotOptions": {},
        "displayType": "table",
        "pivotAggregation": null,
        "pivotColumns": null,
        "xColumns": null,
        "yColumns": null
       },
       "removedWidgets": [],
       "schema": [
        {
         "metadata": "{}",
         "name": "COUNTRY_ID",
         "type": "\"integer\""
        },
        {
         "metadata": "{}",
         "name": "NAME",
         "type": "\"string\""
        },
        {
         "metadata": "{}",
         "name": "NATIONALITY",
         "type": "\"string\""
        },
        {
         "metadata": "{}",
         "name": "COUNTRY_CODE",
         "type": "\"string\""
        },
        {
         "metadata": "{}",
         "name": "ISO_ALPHA2",
         "type": "\"string\""
        },
        {
         "metadata": "{}",
         "name": "CAPITAL",
         "type": "\"string\""
        },
        {
         "metadata": "{}",
         "name": "POPULATION",
         "type": "\"double\""
        },
        {
         "metadata": "{}",
         "name": "AREA_KM2",
         "type": "\"integer\""
        },
        {
         "metadata": "{}",
         "name": "REGION_ID",
         "type": "\"integer\""
        },
        {
         "metadata": "{}",
         "name": "SUB_REGION_ID",
         "type": "\"integer\""
        },
        {
         "metadata": "{}",
         "name": "INTERMEDIATE_REGION_ID",
         "type": "\"integer\""
        },
        {
         "metadata": "{}",
         "name": "ORGANIZATION_REGION_ID",
         "type": "\"integer\""
        }
       ],
       "type": "table"
      }
     },
     "output_type": "display_data"
    }
   ],
   "source": [
    "countries_1_v1 = (\n",
    "    spark.read \n",
    "  .option(\"versionAsOf\", 1) \n",
    "  .table(\"locations_db.countries_1\")\n",
    ")\n",
    "\n",
    "countries_1_v1.limit(10).display()"
   ]
  },
  {
   "cell_type": "code",
   "execution_count": 0,
   "metadata": {
    "application/vnd.databricks.v1+cell": {
     "cellMetadata": {
      "byteLimit": 2048000,
      "rowLimit": 10000
     },
     "inputWidgets": {},
     "nuid": "10d81788-bf2b-46db-bb75-84edf80e730f",
     "showTitle": false,
     "tableResultSettingsMap": {},
     "title": ""
    }
   },
   "outputs": [
    {
     "output_type": "display_data",
     "data": {
      "text/html": [
       "<style scoped>\n",
       "  .table-result-container {\n",
       "    max-height: 300px;\n",
       "    overflow: auto;\n",
       "  }\n",
       "  table, th, td {\n",
       "    border: 1px solid black;\n",
       "    border-collapse: collapse;\n",
       "  }\n",
       "  th, td {\n",
       "    padding: 5px;\n",
       "  }\n",
       "  th {\n",
       "    text-align: left;\n",
       "  }\n",
       "</style><div class='table-result-container'><table class='table-result'><thead style='background-color: white'><tr><th>COUNTRY_ID</th><th>NAME</th><th>NATIONALITY</th><th>COUNTRY_CODE</th><th>ISO_ALPHA2</th><th>CAPITAL</th><th>POPULATION</th><th>AREA_KM2</th><th>REGION_ID</th><th>SUB_REGION_ID</th><th>INTERMEDIATE_REGION_ID</th><th>ORGANIZATION_REGION_ID</th></tr></thead><tbody><tr><td>7</td><td>Anguilla</td><td>Anguillan</td><td>AIA</td><td>AI</td><td>The Valley</td><td>14869.0</td><td>91</td><td>10</td><td>10</td><td>60</td><td>40</td></tr><tr><td>9</td><td>Antigua and Barbuda</td><td>Antiguan or Barbudan</td><td>ATG</td><td>AG</td><td>St. John's</td><td>97118.0</td><td>442</td><td>10</td><td>10</td><td>60</td><td>40</td></tr><tr><td>10</td><td>Argentina</td><td>Argentine</td><td>ARG</td><td>AR</td><td>Buenos Aires</td><td>4.4780677E7</td><td>2780400</td><td>10</td><td>10</td><td>40</td><td>40</td></tr><tr><td>12</td><td>Aruba</td><td>Aruban</td><td>ABW</td><td>AW</td><td>Oranjestad</td><td>106314.0</td><td>180</td><td>10</td><td>10</td><td>60</td><td>40</td></tr><tr><td>16</td><td>Bahamas</td><td>Bahamian</td><td>BHS</td><td>BS</td><td>Nassau</td><td>389482.0</td><td>13943</td><td>10</td><td>10</td><td>60</td><td>40</td></tr><tr><td>19</td><td>Barbados</td><td>Barbadian</td><td>BRB</td><td>BB</td><td>Bridgetown</td><td>287025.0</td><td>430</td><td>10</td><td>10</td><td>60</td><td>40</td></tr><tr><td>22</td><td>Belize</td><td>Belizean</td><td>BLZ</td><td>BZ</td><td>Belmopan</td><td>390353.0</td><td>22966</td><td>10</td><td>10</td><td>20</td><td>40</td></tr><tr><td>24</td><td>Bermuda</td><td>Bermudian</td><td>BMU</td><td>BM</td><td>Hamilton</td><td>62506.0</td><td>54</td><td>10</td><td>80</td><td>null</td><td>40</td></tr><tr><td>26</td><td>Bolivia (Plurinational State of)</td><td>Bolivian</td><td>BOL</td><td>BO</td><td>Sucre</td><td>1.15131E7</td><td>1098581</td><td>10</td><td>10</td><td>40</td><td>40</td></tr><tr><td>27</td><td>Bonaire, Sint Eustatius and Saba</td><td>Sint Eustatius and Saba</td><td>BES</td><td>BQ</td><td>Kralendijk</td><td>25711.0</td><td>328</td><td>10</td><td>10</td><td>null</td><td>40</td></tr></tbody></table></div>"
      ]
     },
     "metadata": {
      "application/vnd.databricks.v1+output": {
       "addedWidgets": {},
       "aggData": [],
       "aggError": "",
       "aggOverflow": false,
       "aggSchema": [],
       "aggSeriesLimitReached": false,
       "aggType": "",
       "arguments": {},
       "columnCustomDisplayInfos": {},
       "data": [
        [
         7,
         "Anguilla",
         "Anguillan",
         "AIA",
         "AI",
         "The Valley",
         14869.0,
         91,
         10,
         10,
         60,
         40
        ],
        [
         9,
         "Antigua and Barbuda",
         "Antiguan or Barbudan",
         "ATG",
         "AG",
         "St. John's",
         97118.0,
         442,
         10,
         10,
         60,
         40
        ],
        [
         10,
         "Argentina",
         "Argentine",
         "ARG",
         "AR",
         "Buenos Aires",
         4.4780677E7,
         2780400,
         10,
         10,
         40,
         40
        ],
        [
         12,
         "Aruba",
         "Aruban",
         "ABW",
         "AW",
         "Oranjestad",
         106314.0,
         180,
         10,
         10,
         60,
         40
        ],
        [
         16,
         "Bahamas",
         "Bahamian",
         "BHS",
         "BS",
         "Nassau",
         389482.0,
         13943,
         10,
         10,
         60,
         40
        ],
        [
         19,
         "Barbados",
         "Barbadian",
         "BRB",
         "BB",
         "Bridgetown",
         287025.0,
         430,
         10,
         10,
         60,
         40
        ],
        [
         22,
         "Belize",
         "Belizean",
         "BLZ",
         "BZ",
         "Belmopan",
         390353.0,
         22966,
         10,
         10,
         20,
         40
        ],
        [
         24,
         "Bermuda",
         "Bermudian",
         "BMU",
         "BM",
         "Hamilton",
         62506.0,
         54,
         10,
         80,
         null,
         40
        ],
        [
         26,
         "Bolivia (Plurinational State of)",
         "Bolivian",
         "BOL",
         "BO",
         "Sucre",
         1.15131E7,
         1098581,
         10,
         10,
         40,
         40
        ],
        [
         27,
         "Bonaire, Sint Eustatius and Saba",
         "Sint Eustatius and Saba",
         "BES",
         "BQ",
         "Kralendijk",
         25711.0,
         328,
         10,
         10,
         null,
         40
        ]
       ],
       "datasetInfos": [],
       "dbfsResultPath": null,
       "isJsonSchema": true,
       "metadata": {},
       "overflow": false,
       "plotOptions": {
        "customPlotOptions": {},
        "displayType": "table",
        "pivotAggregation": null,
        "pivotColumns": null,
        "xColumns": null,
        "yColumns": null
       },
       "removedWidgets": [],
       "schema": [
        {
         "metadata": "{}",
         "name": "COUNTRY_ID",
         "type": "\"integer\""
        },
        {
         "metadata": "{}",
         "name": "NAME",
         "type": "\"string\""
        },
        {
         "metadata": "{}",
         "name": "NATIONALITY",
         "type": "\"string\""
        },
        {
         "metadata": "{}",
         "name": "COUNTRY_CODE",
         "type": "\"string\""
        },
        {
         "metadata": "{}",
         "name": "ISO_ALPHA2",
         "type": "\"string\""
        },
        {
         "metadata": "{}",
         "name": "CAPITAL",
         "type": "\"string\""
        },
        {
         "metadata": "{}",
         "name": "POPULATION",
         "type": "\"double\""
        },
        {
         "metadata": "{}",
         "name": "AREA_KM2",
         "type": "\"integer\""
        },
        {
         "metadata": "{}",
         "name": "REGION_ID",
         "type": "\"integer\""
        },
        {
         "metadata": "{}",
         "name": "SUB_REGION_ID",
         "type": "\"integer\""
        },
        {
         "metadata": "{}",
         "name": "INTERMEDIATE_REGION_ID",
         "type": "\"integer\""
        },
        {
         "metadata": "{}",
         "name": "ORGANIZATION_REGION_ID",
         "type": "\"integer\""
        }
       ],
       "type": "table"
      }
     },
     "output_type": "display_data"
    }
   ],
   "source": [
    "countries_1_time_travel = (\n",
    "    spark.read\n",
    "    .option(\"timestampAsOf\", '2025-04-02T16:57:25') \n",
    "    .table(\"locations_db.countries_1\")\n",
    ")\n",
    "\n",
    "countries_1_time_travel.limit(10).display()\n"
   ]
  }
 ],
 "metadata": {
  "application/vnd.databricks.v1+notebook": {
   "computePreferences": null,
   "dashboards": [],
   "environmentMetadata": {
    "base_environment": "",
    "environment_version": "1"
   },
   "inputWidgetPreferences": null,
   "language": "python",
   "notebookMetadata": {
    "mostRecentlyExecutedCommandWithImplicitDF": {
     "commandId": 3472204223576446,
     "dataframes": [
      "_sqldf"
     ]
    },
    "pythonIndentUnit": 4
   },
   "notebookName": "Delta Table Time Travel",
   "widgets": {}
  }
 },
 "nbformat": 4,
 "nbformat_minor": 0
}