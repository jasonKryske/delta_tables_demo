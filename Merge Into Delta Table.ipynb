{
 "cells": [
  {
   "cell_type": "code",
   "execution_count": 0,
   "metadata": {
    "application/vnd.databricks.v1+cell": {
     "cellMetadata": {},
     "inputWidgets": {},
     "nuid": "c0b11829-e68a-4d26-a4cd-65abab96ceea",
     "showTitle": false,
     "tableResultSettingsMap": {},
     "title": ""
    }
   },
   "outputs": [],
   "source": [
    "%sql\n",
    "-- Merges data from a source table into a target table by matching on a key.\n",
    "-- Updates existing rows or inserts new ones if no match is found.\n"
   ]
  },
  {
   "cell_type": "code",
   "execution_count": 0,
   "metadata": {
    "application/vnd.databricks.v1+cell": {
     "cellMetadata": {
      "byteLimit": 2048000,
      "rowLimit": 10000
     },
     "inputWidgets": {},
     "nuid": "95125946-f369-48f0-9b0c-aec1820e1e28",
     "showTitle": false,
     "tableResultSettingsMap": {},
     "title": ""
    }
   },
   "outputs": [],
   "source": [
    "from pyspark.sql import *\n",
    "from delta.tables import *"
   ]
  },
  {
   "cell_type": "code",
   "execution_count": 0,
   "metadata": {
    "application/vnd.databricks.v1+cell": {
     "cellMetadata": {
      "byteLimit": 2048000,
      "rowLimit": 10000
     },
     "inputWidgets": {},
     "nuid": "e65d586e-310f-4965-b303-46ef4c74578c",
     "showTitle": false,
     "tableResultSettingsMap": {},
     "title": ""
    }
   },
   "outputs": [],
   "source": [
    "schema = 'locations_db'\n",
    "table = 'countries'"
   ]
  },
  {
   "cell_type": "code",
   "execution_count": 0,
   "metadata": {
    "application/vnd.databricks.v1+cell": {
     "cellMetadata": {
      "byteLimit": 2048000,
      "rowLimit": 10000
     },
     "inputWidgets": {},
     "nuid": "fd23b8fd-bdfe-4632-bd7a-937b7cc2a866",
     "showTitle": false,
     "tableResultSettingsMap": {},
     "title": ""
    }
   },
   "outputs": [],
   "source": [
    "\n",
    "countries_df = spark.read.table(f\"{schema}.{table}\")"
   ]
  },
  {
   "cell_type": "markdown",
   "metadata": {
    "application/vnd.databricks.v1+cell": {
     "cellMetadata": {
      "byteLimit": 2048000,
      "rowLimit": 10000
     },
     "inputWidgets": {},
     "nuid": "194c9ece-db79-4210-8048-136fdc5aa356",
     "showTitle": false,
     "tableResultSettingsMap": {},
     "title": ""
    }
   },
   "source": [
    "***Merge Into combines Update, Delete, and Insert operations. You have a target table and will merge records from a source table based on certain conditions***"
   ]
  },
  {
   "cell_type": "code",
   "execution_count": 0,
   "metadata": {
    "application/vnd.databricks.v1+cell": {
     "cellMetadata": {
      "byteLimit": 2048000,
      "rowLimit": 10000
     },
     "inputWidgets": {},
     "nuid": "8a1908d1-9017-4add-afdd-25e914e40f2e",
     "showTitle": false,
     "tableResultSettingsMap": {},
     "title": ""
    }
   },
   "outputs": [
    {
     "output_type": "display_data",
     "data": {
      "text/html": [
       "<style scoped>\n",
       "  .table-result-container {\n",
       "    max-height: 300px;\n",
       "    overflow: auto;\n",
       "  }\n",
       "  table, th, td {\n",
       "    border: 1px solid black;\n",
       "    border-collapse: collapse;\n",
       "  }\n",
       "  th, td {\n",
       "    padding: 5px;\n",
       "  }\n",
       "  th {\n",
       "    text-align: left;\n",
       "  }\n",
       "</style><div class='table-result-container'><table class='table-result'><thead style='background-color: white'><tr><th>COUNTRY_ID</th><th>NAME</th><th>NATIONALITY</th><th>COUNTRY_CODE</th><th>ISO_ALPHA2</th><th>CAPITAL</th><th>POPULATION</th><th>AREA_KM2</th><th>REGION_ID</th><th>SUB_REGION_ID</th><th>INTERMEDIATE_REGION_ID</th><th>ORGANIZATION_REGION_ID</th></tr></thead><tbody><tr><td>1</td><td>Afghanistan</td><td>Afghan</td><td>AFG</td><td>AF</td><td>Kabul</td><td>3.8041754E7</td><td>652230</td><td>30</td><td>30</td><td>null</td><td>30</td></tr><tr><td>2</td><td>Albania</td><td>Albanian</td><td>ALB</td><td>AL</td><td>Tirana</td><td>2880917.0</td><td>28748</td><td>20</td><td>70</td><td>null</td><td>20</td></tr><tr><td>3</td><td>Algeria</td><td>Algerian</td><td>DZA</td><td>DZ</td><td>Algiers</td><td>4.3053054E7</td><td>2381741</td><td>50</td><td>40</td><td>null</td><td>20</td></tr></tbody></table></div>"
      ]
     },
     "metadata": {
      "application/vnd.databricks.v1+output": {
       "addedWidgets": {},
       "aggData": [],
       "aggError": "",
       "aggOverflow": false,
       "aggSchema": [],
       "aggSeriesLimitReached": false,
       "aggType": "",
       "arguments": {},
       "columnCustomDisplayInfos": {},
       "data": [
        [
         1,
         "Afghanistan",
         "Afghan",
         "AFG",
         "AF",
         "Kabul",
         3.8041754E7,
         652230,
         30,
         30,
         null,
         30
        ],
        [
         2,
         "Albania",
         "Albanian",
         "ALB",
         "AL",
         "Tirana",
         2880917.0,
         28748,
         20,
         70,
         null,
         20
        ],
        [
         3,
         "Algeria",
         "Algerian",
         "DZA",
         "DZ",
         "Algiers",
         4.3053054E7,
         2381741,
         50,
         40,
         null,
         20
        ]
       ],
       "datasetInfos": [],
       "dbfsResultPath": null,
       "isJsonSchema": true,
       "metadata": {},
       "overflow": false,
       "plotOptions": {
        "customPlotOptions": {},
        "displayType": "table",
        "pivotAggregation": null,
        "pivotColumns": null,
        "xColumns": null,
        "yColumns": null
       },
       "removedWidgets": [],
       "schema": [
        {
         "metadata": "{}",
         "name": "COUNTRY_ID",
         "type": "\"integer\""
        },
        {
         "metadata": "{}",
         "name": "NAME",
         "type": "\"string\""
        },
        {
         "metadata": "{}",
         "name": "NATIONALITY",
         "type": "\"string\""
        },
        {
         "metadata": "{}",
         "name": "COUNTRY_CODE",
         "type": "\"string\""
        },
        {
         "metadata": "{}",
         "name": "ISO_ALPHA2",
         "type": "\"string\""
        },
        {
         "metadata": "{}",
         "name": "CAPITAL",
         "type": "\"string\""
        },
        {
         "metadata": "{}",
         "name": "POPULATION",
         "type": "\"double\""
        },
        {
         "metadata": "{}",
         "name": "AREA_KM2",
         "type": "\"integer\""
        },
        {
         "metadata": "{}",
         "name": "REGION_ID",
         "type": "\"integer\""
        },
        {
         "metadata": "{}",
         "name": "SUB_REGION_ID",
         "type": "\"integer\""
        },
        {
         "metadata": "{}",
         "name": "INTERMEDIATE_REGION_ID",
         "type": "\"integer\""
        },
        {
         "metadata": "{}",
         "name": "ORGANIZATION_REGION_ID",
         "type": "\"integer\""
        }
       ],
       "type": "table"
      }
     },
     "output_type": "display_data"
    }
   ],
   "source": [
    "countries_df.limit(3).display()"
   ]
  },
  {
   "cell_type": "code",
   "execution_count": 0,
   "metadata": {
    "application/vnd.databricks.v1+cell": {
     "cellMetadata": {
      "byteLimit": 2048000,
      "rowLimit": 10000
     },
     "inputWidgets": {},
     "nuid": "a3d7d466-816b-484f-84d2-f86ddffc302d",
     "showTitle": false,
     "tableResultSettingsMap": {},
     "title": ""
    }
   },
   "outputs": [],
   "source": [
    "countries_1 = countries_df.filter(\"region_id in (10,20,30)\")"
   ]
  },
  {
   "cell_type": "code",
   "execution_count": 0,
   "metadata": {
    "application/vnd.databricks.v1+cell": {
     "cellMetadata": {
      "byteLimit": 2048000,
      "rowLimit": 10000
     },
     "inputWidgets": {},
     "nuid": "96fab999-8ad3-421f-8588-da5bf7c47a5a",
     "showTitle": false,
     "tableResultSettingsMap": {},
     "title": ""
    }
   },
   "outputs": [
    {
     "output_type": "display_data",
     "data": {
      "text/html": [
       "<style scoped>\n",
       "  .table-result-container {\n",
       "    max-height: 300px;\n",
       "    overflow: auto;\n",
       "  }\n",
       "  table, th, td {\n",
       "    border: 1px solid black;\n",
       "    border-collapse: collapse;\n",
       "  }\n",
       "  th, td {\n",
       "    padding: 5px;\n",
       "  }\n",
       "  th {\n",
       "    text-align: left;\n",
       "  }\n",
       "</style><div class='table-result-container'><table class='table-result'><thead style='background-color: white'><tr><th>COUNTRY_ID</th><th>NAME</th><th>NATIONALITY</th><th>COUNTRY_CODE</th><th>ISO_ALPHA2</th><th>CAPITAL</th><th>POPULATION</th><th>AREA_KM2</th><th>REGION_ID</th><th>SUB_REGION_ID</th><th>INTERMEDIATE_REGION_ID</th><th>ORGANIZATION_REGION_ID</th></tr></thead><tbody><tr><td>1</td><td>Afghanistan</td><td>Afghan</td><td>AFG</td><td>AF</td><td>Kabul</td><td>3.8041754E7</td><td>652230</td><td>30</td><td>30</td><td>null</td><td>30</td></tr><tr><td>2</td><td>Albania</td><td>Albanian</td><td>ALB</td><td>AL</td><td>Tirana</td><td>2880917.0</td><td>28748</td><td>20</td><td>70</td><td>null</td><td>20</td></tr><tr><td>5</td><td>Andorra</td><td>Andorran</td><td>AND</td><td>AD</td><td>Andorra la Vella</td><td>77142.0</td><td>468</td><td>20</td><td>70</td><td>null</td><td>20</td></tr></tbody></table></div>"
      ]
     },
     "metadata": {
      "application/vnd.databricks.v1+output": {
       "addedWidgets": {},
       "aggData": [],
       "aggError": "",
       "aggOverflow": false,
       "aggSchema": [],
       "aggSeriesLimitReached": false,
       "aggType": "",
       "arguments": {},
       "columnCustomDisplayInfos": {},
       "data": [
        [
         1,
         "Afghanistan",
         "Afghan",
         "AFG",
         "AF",
         "Kabul",
         3.8041754E7,
         652230,
         30,
         30,
         null,
         30
        ],
        [
         2,
         "Albania",
         "Albanian",
         "ALB",
         "AL",
         "Tirana",
         2880917.0,
         28748,
         20,
         70,
         null,
         20
        ],
        [
         5,
         "Andorra",
         "Andorran",
         "AND",
         "AD",
         "Andorra la Vella",
         77142.0,
         468,
         20,
         70,
         null,
         20
        ]
       ],
       "datasetInfos": [],
       "dbfsResultPath": null,
       "isJsonSchema": true,
       "metadata": {},
       "overflow": false,
       "plotOptions": {
        "customPlotOptions": {},
        "displayType": "table",
        "pivotAggregation": null,
        "pivotColumns": null,
        "xColumns": null,
        "yColumns": null
       },
       "removedWidgets": [],
       "schema": [
        {
         "metadata": "{}",
         "name": "COUNTRY_ID",
         "type": "\"integer\""
        },
        {
         "metadata": "{}",
         "name": "NAME",
         "type": "\"string\""
        },
        {
         "metadata": "{}",
         "name": "NATIONALITY",
         "type": "\"string\""
        },
        {
         "metadata": "{}",
         "name": "COUNTRY_CODE",
         "type": "\"string\""
        },
        {
         "metadata": "{}",
         "name": "ISO_ALPHA2",
         "type": "\"string\""
        },
        {
         "metadata": "{}",
         "name": "CAPITAL",
         "type": "\"string\""
        },
        {
         "metadata": "{}",
         "name": "POPULATION",
         "type": "\"double\""
        },
        {
         "metadata": "{}",
         "name": "AREA_KM2",
         "type": "\"integer\""
        },
        {
         "metadata": "{}",
         "name": "REGION_ID",
         "type": "\"integer\""
        },
        {
         "metadata": "{}",
         "name": "SUB_REGION_ID",
         "type": "\"integer\""
        },
        {
         "metadata": "{}",
         "name": "INTERMEDIATE_REGION_ID",
         "type": "\"integer\""
        },
        {
         "metadata": "{}",
         "name": "ORGANIZATION_REGION_ID",
         "type": "\"integer\""
        }
       ],
       "type": "table"
      }
     },
     "output_type": "display_data"
    }
   ],
   "source": [
    "countries_1.limit(3).display()"
   ]
  },
  {
   "cell_type": "code",
   "execution_count": 0,
   "metadata": {
    "application/vnd.databricks.v1+cell": {
     "cellMetadata": {
      "byteLimit": 2048000,
      "rowLimit": 10000
     },
     "inputWidgets": {},
     "nuid": "e92bfcba-3a48-4e2f-9226-c9c17a979db0",
     "showTitle": false,
     "tableResultSettingsMap": {},
     "title": ""
    }
   },
   "outputs": [],
   "source": [
    "countries_2 = countries_df.filter(\"region_id in (20,30,40,50)\")"
   ]
  },
  {
   "cell_type": "code",
   "execution_count": 0,
   "metadata": {
    "application/vnd.databricks.v1+cell": {
     "cellMetadata": {
      "byteLimit": 2048000,
      "rowLimit": 10000
     },
     "inputWidgets": {},
     "nuid": "8bcad73a-595d-44ce-b4d9-129eb555cec5",
     "showTitle": false,
     "tableResultSettingsMap": {},
     "title": ""
    }
   },
   "outputs": [
    {
     "output_type": "display_data",
     "data": {
      "text/html": [
       "<style scoped>\n",
       "  .table-result-container {\n",
       "    max-height: 300px;\n",
       "    overflow: auto;\n",
       "  }\n",
       "  table, th, td {\n",
       "    border: 1px solid black;\n",
       "    border-collapse: collapse;\n",
       "  }\n",
       "  th, td {\n",
       "    padding: 5px;\n",
       "  }\n",
       "  th {\n",
       "    text-align: left;\n",
       "  }\n",
       "</style><div class='table-result-container'><table class='table-result'><thead style='background-color: white'><tr><th>COUNTRY_ID</th><th>NAME</th><th>NATIONALITY</th><th>COUNTRY_CODE</th><th>ISO_ALPHA2</th><th>CAPITAL</th><th>POPULATION</th><th>AREA_KM2</th><th>REGION_ID</th><th>SUB_REGION_ID</th><th>INTERMEDIATE_REGION_ID</th><th>ORGANIZATION_REGION_ID</th></tr></thead><tbody><tr><td>1</td><td>Afghanistan</td><td>Afghan</td><td>AFG</td><td>AF</td><td>Kabul</td><td>3.8041754E7</td><td>652230</td><td>30</td><td>30</td><td>null</td><td>30</td></tr><tr><td>2</td><td>Albania</td><td>Albanian</td><td>ALB</td><td>AL</td><td>Tirana</td><td>2880917.0</td><td>28748</td><td>20</td><td>70</td><td>null</td><td>20</td></tr><tr><td>3</td><td>Algeria</td><td>Algerian</td><td>DZA</td><td>DZ</td><td>Algiers</td><td>4.3053054E7</td><td>2381741</td><td>50</td><td>40</td><td>null</td><td>20</td></tr></tbody></table></div>"
      ]
     },
     "metadata": {
      "application/vnd.databricks.v1+output": {
       "addedWidgets": {},
       "aggData": [],
       "aggError": "",
       "aggOverflow": false,
       "aggSchema": [],
       "aggSeriesLimitReached": false,
       "aggType": "",
       "arguments": {},
       "columnCustomDisplayInfos": {},
       "data": [
        [
         1,
         "Afghanistan",
         "Afghan",
         "AFG",
         "AF",
         "Kabul",
         3.8041754E7,
         652230,
         30,
         30,
         null,
         30
        ],
        [
         2,
         "Albania",
         "Albanian",
         "ALB",
         "AL",
         "Tirana",
         2880917.0,
         28748,
         20,
         70,
         null,
         20
        ],
        [
         3,
         "Algeria",
         "Algerian",
         "DZA",
         "DZ",
         "Algiers",
         4.3053054E7,
         2381741,
         50,
         40,
         null,
         20
        ]
       ],
       "datasetInfos": [],
       "dbfsResultPath": null,
       "isJsonSchema": true,
       "metadata": {},
       "overflow": false,
       "plotOptions": {
        "customPlotOptions": {},
        "displayType": "table",
        "pivotAggregation": null,
        "pivotColumns": null,
        "xColumns": null,
        "yColumns": null
       },
       "removedWidgets": [],
       "schema": [
        {
         "metadata": "{}",
         "name": "COUNTRY_ID",
         "type": "\"integer\""
        },
        {
         "metadata": "{}",
         "name": "NAME",
         "type": "\"string\""
        },
        {
         "metadata": "{}",
         "name": "NATIONALITY",
         "type": "\"string\""
        },
        {
         "metadata": "{}",
         "name": "COUNTRY_CODE",
         "type": "\"string\""
        },
        {
         "metadata": "{}",
         "name": "ISO_ALPHA2",
         "type": "\"string\""
        },
        {
         "metadata": "{}",
         "name": "CAPITAL",
         "type": "\"string\""
        },
        {
         "metadata": "{}",
         "name": "POPULATION",
         "type": "\"double\""
        },
        {
         "metadata": "{}",
         "name": "AREA_KM2",
         "type": "\"integer\""
        },
        {
         "metadata": "{}",
         "name": "REGION_ID",
         "type": "\"integer\""
        },
        {
         "metadata": "{}",
         "name": "SUB_REGION_ID",
         "type": "\"integer\""
        },
        {
         "metadata": "{}",
         "name": "INTERMEDIATE_REGION_ID",
         "type": "\"integer\""
        },
        {
         "metadata": "{}",
         "name": "ORGANIZATION_REGION_ID",
         "type": "\"integer\""
        }
       ],
       "type": "table"
      }
     },
     "output_type": "display_data"
    }
   ],
   "source": [
    "countries_2.limit(3).display()"
   ]
  },
  {
   "cell_type": "markdown",
   "metadata": {
    "application/vnd.databricks.v1+cell": {
     "cellMetadata": {
      "byteLimit": 2048000,
      "rowLimit": 10000
     },
     "inputWidgets": {},
     "nuid": "3ae5a6a5-4060-4b6c-b43c-434d4f9b53ee",
     "showTitle": false,
     "tableResultSettingsMap": {},
     "title": ""
    }
   },
   "source": [
    "\n",
    "**Save dataframes as delta tables in our location database.**"
   ]
  },
  {
   "cell_type": "code",
   "execution_count": 0,
   "metadata": {
    "application/vnd.databricks.v1+cell": {
     "cellMetadata": {
      "byteLimit": 2048000,
      "rowLimit": 10000
     },
     "inputWidgets": {},
     "nuid": "5e9e06b8-3bde-428c-b83e-e72cfc46bcd9",
     "showTitle": false,
     "tableResultSettingsMap": {},
     "title": ""
    }
   },
   "outputs": [],
   "source": [
    "countries_1.write.mode('overwrite').saveAsTable('locations_db.countries_1')\n",
    "countries_2.write.mode('overwrite').saveAsTable('locations_db.countries_2')"
   ]
  },
  {
   "cell_type": "code",
   "execution_count": 0,
   "metadata": {
    "application/vnd.databricks.v1+cell": {
     "cellMetadata": {
      "byteLimit": 2048000,
      "implicitDf": true,
      "rowLimit": 10000
     },
     "inputWidgets": {},
     "nuid": "96e592b8-d3b6-4f59-b3f3-0273f0c7d167",
     "showTitle": false,
     "tableResultSettingsMap": {},
     "title": ""
    }
   },
   "outputs": [
    {
     "output_type": "display_data",
     "data": {
      "text/html": [
       "<style scoped>\n",
       "  .table-result-container {\n",
       "    max-height: 300px;\n",
       "    overflow: auto;\n",
       "  }\n",
       "  table, th, td {\n",
       "    border: 1px solid black;\n",
       "    border-collapse: collapse;\n",
       "  }\n",
       "  th, td {\n",
       "    padding: 5px;\n",
       "  }\n",
       "  th {\n",
       "    text-align: left;\n",
       "  }\n",
       "</style><div class='table-result-container'><table class='table-result'><thead style='background-color: white'><tr><th>num_affected_rows</th></tr></thead><tbody><tr><td>192</td></tr></tbody></table></div>"
      ]
     },
     "metadata": {
      "application/vnd.databricks.v1+output": {
       "addedWidgets": {},
       "aggData": [],
       "aggError": "",
       "aggOverflow": false,
       "aggSchema": [],
       "aggSeriesLimitReached": false,
       "aggType": "",
       "arguments": {},
       "columnCustomDisplayInfos": {},
       "data": [
        [
         192
        ]
       ],
       "datasetInfos": [],
       "dbfsResultPath": null,
       "isJsonSchema": true,
       "metadata": {
        "createTempViewForImplicitDf": true,
        "dataframeName": "_sqldf",
        "executionCount": 40
       },
       "overflow": false,
       "plotOptions": {
        "customPlotOptions": {},
        "displayType": "table",
        "pivotAggregation": null,
        "pivotColumns": null,
        "xColumns": null,
        "yColumns": null
       },
       "removedWidgets": [],
       "schema": [
        {
         "metadata": "{}",
         "name": "num_affected_rows",
         "type": "\"long\""
        }
       ],
       "type": "table"
      }
     },
     "output_type": "display_data"
    }
   ],
   "source": [
    "%sql\n",
    "update countries_2 \n",
    "  SET name = upper(name)"
   ]
  },
  {
   "cell_type": "code",
   "execution_count": 0,
   "metadata": {
    "application/vnd.databricks.v1+cell": {
     "cellMetadata": {
      "byteLimit": 2048000,
      "implicitDf": true,
      "rowLimit": 10000
     },
     "inputWidgets": {},
     "nuid": "c1f06288-69a4-4d3b-95fe-5fe08d8da65b",
     "showTitle": false,
     "tableResultSettingsMap": {},
     "title": ""
    }
   },
   "outputs": [
    {
     "output_type": "display_data",
     "data": {
      "text/html": [
       "<style scoped>\n",
       "  .table-result-container {\n",
       "    max-height: 300px;\n",
       "    overflow: auto;\n",
       "  }\n",
       "  table, th, td {\n",
       "    border: 1px solid black;\n",
       "    border-collapse: collapse;\n",
       "  }\n",
       "  th, td {\n",
       "    padding: 5px;\n",
       "  }\n",
       "  th {\n",
       "    text-align: left;\n",
       "  }\n",
       "</style><div class='table-result-container'><table class='table-result'><thead style='background-color: white'><tr><th>COUNTRY_ID</th><th>NAME</th><th>NATIONALITY</th><th>COUNTRY_CODE</th><th>ISO_ALPHA2</th><th>CAPITAL</th><th>POPULATION</th><th>AREA_KM2</th><th>REGION_ID</th><th>SUB_REGION_ID</th><th>INTERMEDIATE_REGION_ID</th><th>ORGANIZATION_REGION_ID</th></tr></thead><tbody><tr><td>1</td><td>AFGHANISTAN</td><td>Afghan</td><td>AFG</td><td>AF</td><td>Kabul</td><td>3.8041754E7</td><td>652230</td><td>30</td><td>30</td><td>null</td><td>30</td></tr><tr><td>2</td><td>ALBANIA</td><td>Albanian</td><td>ALB</td><td>AL</td><td>Tirana</td><td>2880917.0</td><td>28748</td><td>20</td><td>70</td><td>null</td><td>20</td></tr><tr><td>3</td><td>ALGERIA</td><td>Algerian</td><td>DZA</td><td>DZ</td><td>Algiers</td><td>4.3053054E7</td><td>2381741</td><td>50</td><td>40</td><td>null</td><td>20</td></tr><tr><td>4</td><td>AMERICAN SAMOA</td><td>American Samoan</td><td>ASM</td><td>AS</td><td>Pago Pago</td><td>55312.0</td><td>199</td><td>40</td><td>20</td><td>null</td><td>30</td></tr><tr><td>5</td><td>ANDORRA</td><td>Andorran</td><td>AND</td><td>AD</td><td>Andorra la Vella</td><td>77142.0</td><td>468</td><td>20</td><td>70</td><td>null</td><td>20</td></tr></tbody></table></div>"
      ]
     },
     "metadata": {
      "application/vnd.databricks.v1+output": {
       "addedWidgets": {},
       "aggData": [],
       "aggError": "",
       "aggOverflow": false,
       "aggSchema": [],
       "aggSeriesLimitReached": false,
       "aggType": "",
       "arguments": {},
       "columnCustomDisplayInfos": {},
       "data": [
        [
         1,
         "AFGHANISTAN",
         "Afghan",
         "AFG",
         "AF",
         "Kabul",
         3.8041754E7,
         652230,
         30,
         30,
         null,
         30
        ],
        [
         2,
         "ALBANIA",
         "Albanian",
         "ALB",
         "AL",
         "Tirana",
         2880917.0,
         28748,
         20,
         70,
         null,
         20
        ],
        [
         3,
         "ALGERIA",
         "Algerian",
         "DZA",
         "DZ",
         "Algiers",
         4.3053054E7,
         2381741,
         50,
         40,
         null,
         20
        ],
        [
         4,
         "AMERICAN SAMOA",
         "American Samoan",
         "ASM",
         "AS",
         "Pago Pago",
         55312.0,
         199,
         40,
         20,
         null,
         30
        ],
        [
         5,
         "ANDORRA",
         "Andorran",
         "AND",
         "AD",
         "Andorra la Vella",
         77142.0,
         468,
         20,
         70,
         null,
         20
        ]
       ],
       "datasetInfos": [],
       "dbfsResultPath": null,
       "isJsonSchema": true,
       "metadata": {
        "createTempViewForImplicitDf": true,
        "dataframeName": "_sqldf",
        "executionCount": 41
       },
       "overflow": false,
       "plotOptions": {
        "customPlotOptions": {},
        "displayType": "table",
        "pivotAggregation": null,
        "pivotColumns": null,
        "xColumns": null,
        "yColumns": null
       },
       "removedWidgets": [],
       "schema": [
        {
         "metadata": "{}",
         "name": "COUNTRY_ID",
         "type": "\"integer\""
        },
        {
         "metadata": "{}",
         "name": "NAME",
         "type": "\"string\""
        },
        {
         "metadata": "{}",
         "name": "NATIONALITY",
         "type": "\"string\""
        },
        {
         "metadata": "{}",
         "name": "COUNTRY_CODE",
         "type": "\"string\""
        },
        {
         "metadata": "{}",
         "name": "ISO_ALPHA2",
         "type": "\"string\""
        },
        {
         "metadata": "{}",
         "name": "CAPITAL",
         "type": "\"string\""
        },
        {
         "metadata": "{}",
         "name": "POPULATION",
         "type": "\"double\""
        },
        {
         "metadata": "{}",
         "name": "AREA_KM2",
         "type": "\"integer\""
        },
        {
         "metadata": "{}",
         "name": "REGION_ID",
         "type": "\"integer\""
        },
        {
         "metadata": "{}",
         "name": "SUB_REGION_ID",
         "type": "\"integer\""
        },
        {
         "metadata": "{}",
         "name": "INTERMEDIATE_REGION_ID",
         "type": "\"integer\""
        },
        {
         "metadata": "{}",
         "name": "ORGANIZATION_REGION_ID",
         "type": "\"integer\""
        }
       ],
       "type": "table"
      }
     },
     "output_type": "display_data"
    }
   ],
   "source": [
    "%sql\n",
    "SELECT\n",
    "  *\n",
    "FROM\n",
    "  countries_2\n",
    "limit 5"
   ]
  },
  {
   "cell_type": "markdown",
   "metadata": {
    "application/vnd.databricks.v1+cell": {
     "cellMetadata": {
      "byteLimit": 2048000,
      "rowLimit": 10000
     },
     "inputWidgets": {},
     "nuid": "4e329a33-5541-4df4-8e2b-295ddfd5c897",
     "showTitle": false,
     "tableResultSettingsMap": {},
     "title": ""
    }
   },
   "source": [
    "\n",
    "## Merge Into - SQL"
   ]
  },
  {
   "cell_type": "code",
   "execution_count": 0,
   "metadata": {
    "application/vnd.databricks.v1+cell": {
     "cellMetadata": {
      "byteLimit": 2048000,
      "implicitDf": true,
      "rowLimit": 10000
     },
     "inputWidgets": {},
     "nuid": "adc6a585-7a1e-4fe5-92c3-76275472423b",
     "showTitle": false,
     "tableResultSettingsMap": {},
     "title": ""
    }
   },
   "outputs": [
    {
     "output_type": "display_data",
     "data": {
      "text/html": [
       "<style scoped>\n",
       "  .table-result-container {\n",
       "    max-height: 300px;\n",
       "    overflow: auto;\n",
       "  }\n",
       "  table, th, td {\n",
       "    border: 1px solid black;\n",
       "    border-collapse: collapse;\n",
       "  }\n",
       "  th, td {\n",
       "    padding: 5px;\n",
       "  }\n",
       "  th {\n",
       "    text-align: left;\n",
       "  }\n",
       "</style><div class='table-result-container'><table class='table-result'><thead style='background-color: white'><tr><th>current_schema()</th></tr></thead><tbody><tr><td>locations_db</td></tr></tbody></table></div>"
      ]
     },
     "metadata": {
      "application/vnd.databricks.v1+output": {
       "addedWidgets": {},
       "aggData": [],
       "aggError": "",
       "aggOverflow": false,
       "aggSchema": [],
       "aggSeriesLimitReached": false,
       "aggType": "",
       "arguments": {},
       "columnCustomDisplayInfos": {},
       "data": [
        [
         "locations_db"
        ]
       ],
       "datasetInfos": [],
       "dbfsResultPath": null,
       "isJsonSchema": true,
       "metadata": {
        "createTempViewForImplicitDf": true,
        "dataframeName": "_sqldf",
        "executionCount": 42
       },
       "overflow": false,
       "plotOptions": {
        "customPlotOptions": {},
        "displayType": "table",
        "pivotAggregation": null,
        "pivotColumns": null,
        "xColumns": null,
        "yColumns": null
       },
       "removedWidgets": [],
       "schema": [
        {
         "metadata": "{\"__autoGeneratedAlias\":\"true\"}",
         "name": "current_schema()",
         "type": "\"string\""
        }
       ],
       "type": "table"
      }
     },
     "output_type": "display_data"
    }
   ],
   "source": [
    "%sql\n",
    "SELECT current_database();"
   ]
  },
  {
   "cell_type": "code",
   "execution_count": 0,
   "metadata": {
    "application/vnd.databricks.v1+cell": {
     "cellMetadata": {
      "byteLimit": 2048000,
      "implicitDf": true,
      "rowLimit": 10000
     },
     "inputWidgets": {},
     "nuid": "27acc5f4-82a2-4f66-914b-88d932768bf7",
     "showTitle": false,
     "tableResultSettingsMap": {},
     "title": ""
    }
   },
   "outputs": [
    {
     "output_type": "display_data",
     "data": {
      "text/html": [
       "<style scoped>\n",
       "  .table-result-container {\n",
       "    max-height: 300px;\n",
       "    overflow: auto;\n",
       "  }\n",
       "  table, th, td {\n",
       "    border: 1px solid black;\n",
       "    border-collapse: collapse;\n",
       "  }\n",
       "  th, td {\n",
       "    padding: 5px;\n",
       "  }\n",
       "  th {\n",
       "    text-align: left;\n",
       "  }\n",
       "</style><div class='table-result-container'><table class='table-result'><thead style='background-color: white'><tr><th>num_affected_rows</th><th>num_updated_rows</th><th>num_deleted_rows</th><th>num_inserted_rows</th></tr></thead><tbody><tr><td>192</td><td>102</td><td>0</td><td>90</td></tr></tbody></table></div>"
      ]
     },
     "metadata": {
      "application/vnd.databricks.v1+output": {
       "addedWidgets": {},
       "aggData": [],
       "aggError": "",
       "aggOverflow": false,
       "aggSchema": [],
       "aggSeriesLimitReached": false,
       "aggType": "",
       "arguments": {},
       "columnCustomDisplayInfos": {},
       "data": [
        [
         192,
         102,
         0,
         90
        ]
       ],
       "datasetInfos": [],
       "dbfsResultPath": null,
       "isJsonSchema": true,
       "metadata": {
        "createTempViewForImplicitDf": true,
        "dataframeName": "_sqldf",
        "executionCount": 43
       },
       "overflow": false,
       "plotOptions": {
        "customPlotOptions": {},
        "displayType": "table",
        "pivotAggregation": null,
        "pivotColumns": null,
        "xColumns": null,
        "yColumns": null
       },
       "removedWidgets": [],
       "schema": [
        {
         "metadata": "{}",
         "name": "num_affected_rows",
         "type": "\"long\""
        },
        {
         "metadata": "{}",
         "name": "num_updated_rows",
         "type": "\"long\""
        },
        {
         "metadata": "{}",
         "name": "num_deleted_rows",
         "type": "\"long\""
        },
        {
         "metadata": "{}",
         "name": "num_inserted_rows",
         "type": "\"long\""
        }
       ],
       "type": "table"
      }
     },
     "output_type": "display_data"
    }
   ],
   "source": [
    "%sql\n",
    "\n",
    "MERGE INTO countries_1 AS tgt\n",
    "USING countries_2 AS src\n",
    "ON tgt.COUNTRY_ID = src.COUNTRY_ID\n",
    "\n",
    "WHEN MATCHED THEN\n",
    "  UPDATE SET\n",
    "    tgt.name = src.name\n",
    "\n",
    "WHEN NOT MATCHED THEN\n",
    "  INSERT (\n",
    "    tgt.country_id,\n",
    "    tgt.name,\n",
    "    tgt.nationality,\n",
    "    tgt.country_code,\n",
    "    tgt.iso_alpha2,\n",
    "    tgt.capital,\n",
    "    tgt.population,\n",
    "    tgt.area_km2,\n",
    "    tgt.region_id,\n",
    "    tgt.sub_region_id,\n",
    "    tgt.intermediate_region_id,\n",
    "    tgt.organization_region_id\n",
    "  )\n",
    "  VALUES (\n",
    "    src.country_id,\n",
    "    src.name,\n",
    "    src.nationality,\n",
    "    src.country_code,\n",
    "    src.iso_alpha2,\n",
    "    src.capital,\n",
    "    src.population,\n",
    "    src.area_km2,\n",
    "    src.region_id,\n",
    "    src.sub_region_id,\n",
    "    src.intermediate_region_id,\n",
    "    src.organization_region_id\n",
    "  );\n"
   ]
  },
  {
   "cell_type": "code",
   "execution_count": 0,
   "metadata": {
    "application/vnd.databricks.v1+cell": {
     "cellMetadata": {
      "byteLimit": 2048000,
      "implicitDf": true,
      "rowLimit": 10000
     },
     "inputWidgets": {},
     "nuid": "3be67084-1a16-461d-9e16-974fcf49a011",
     "showTitle": false,
     "tableResultSettingsMap": {},
     "title": ""
    }
   },
   "outputs": [
    {
     "output_type": "display_data",
     "data": {
      "text/html": [
       "<style scoped>\n",
       "  .table-result-container {\n",
       "    max-height: 300px;\n",
       "    overflow: auto;\n",
       "  }\n",
       "  table, th, td {\n",
       "    border: 1px solid black;\n",
       "    border-collapse: collapse;\n",
       "  }\n",
       "  th, td {\n",
       "    padding: 5px;\n",
       "  }\n",
       "  th {\n",
       "    text-align: left;\n",
       "  }\n",
       "</style><div class='table-result-container'><table class='table-result'><thead style='background-color: white'><tr><th>COUNTRY_ID</th><th>NAME</th><th>NATIONALITY</th><th>COUNTRY_CODE</th><th>ISO_ALPHA2</th><th>CAPITAL</th><th>POPULATION</th><th>AREA_KM2</th><th>REGION_ID</th><th>SUB_REGION_ID</th><th>INTERMEDIATE_REGION_ID</th><th>ORGANIZATION_REGION_ID</th></tr></thead><tbody><tr><td>9</td><td>Antigua and Barbuda</td><td>Antiguan or Barbudan</td><td>ATG</td><td>AG</td><td>St. John's</td><td>97118.0</td><td>442</td><td>10</td><td>10</td><td>60</td><td>40</td></tr><tr><td>7</td><td>Anguilla</td><td>Anguillan</td><td>AIA</td><td>AI</td><td>The Valley</td><td>14869.0</td><td>91</td><td>10</td><td>10</td><td>60</td><td>40</td></tr><tr><td>6</td><td>ANGOLA</td><td>ANGOLAN</td><td>AGO</td><td>AO</td><td>Luanda</td><td>3.1825295E7</td><td>1246700</td><td>50</td><td>160</td><td>80</td><td>20</td></tr><tr><td>10</td><td>Argentina</td><td>Argentine</td><td>ARG</td><td>AR</td><td>Buenos Aires</td><td>4.4780677E7</td><td>2780400</td><td>10</td><td>10</td><td>40</td><td>40</td></tr><tr><td>12</td><td>Aruba</td><td>Aruban</td><td>ABW</td><td>AW</td><td>Oranjestad</td><td>106314.0</td><td>180</td><td>10</td><td>10</td><td>60</td><td>40</td></tr><tr><td>19</td><td>Barbados</td><td>Barbadian</td><td>BRB</td><td>BB</td><td>Bridgetown</td><td>287025.0</td><td>430</td><td>10</td><td>10</td><td>60</td><td>40</td></tr><tr><td>35</td><td>BURKINA FASO</td><td>BURKINAB�</td><td>BFA</td><td>BF</td><td>Ouagadougou</td><td>2.0321378E7</td><td>272967</td><td>50</td><td>160</td><td>10</td><td>20</td></tr><tr><td>36</td><td>BURUNDI</td><td>BURUNDIAN</td><td>BDI</td><td>BI</td><td>Bujumbura</td><td>1.153058E7</td><td>27834</td><td>50</td><td>160</td><td>50</td><td>20</td></tr><tr><td>23</td><td>BENIN</td><td>BENINESE</td><td>BEN</td><td>BJ</td><td>Porto-Novo</td><td>1.1801151E7</td><td>112622</td><td>50</td><td>160</td><td>10</td><td>20</td></tr><tr><td>184</td><td>Saint Barth�lemy</td><td>Barth�lemois</td><td>BLM</td><td>BL</td><td>Gustavia</td><td>9847.0</td><td>21</td><td>10</td><td>10</td><td>60</td><td>40</td></tr></tbody></table></div>"
      ]
     },
     "metadata": {
      "application/vnd.databricks.v1+output": {
       "addedWidgets": {},
       "aggData": [],
       "aggError": "",
       "aggOverflow": false,
       "aggSchema": [],
       "aggSeriesLimitReached": false,
       "aggType": "",
       "arguments": {},
       "columnCustomDisplayInfos": {},
       "data": [
        [
         9,
         "Antigua and Barbuda",
         "Antiguan or Barbudan",
         "ATG",
         "AG",
         "St. John's",
         97118.0,
         442,
         10,
         10,
         60,
         40
        ],
        [
         7,
         "Anguilla",
         "Anguillan",
         "AIA",
         "AI",
         "The Valley",
         14869.0,
         91,
         10,
         10,
         60,
         40
        ],
        [
         6,
         "ANGOLA",
         "ANGOLAN",
         "AGO",
         "AO",
         "Luanda",
         3.1825295E7,
         1246700,
         50,
         160,
         80,
         20
        ],
        [
         10,
         "Argentina",
         "Argentine",
         "ARG",
         "AR",
         "Buenos Aires",
         4.4780677E7,
         2780400,
         10,
         10,
         40,
         40
        ],
        [
         12,
         "Aruba",
         "Aruban",
         "ABW",
         "AW",
         "Oranjestad",
         106314.0,
         180,
         10,
         10,
         60,
         40
        ],
        [
         19,
         "Barbados",
         "Barbadian",
         "BRB",
         "BB",
         "Bridgetown",
         287025.0,
         430,
         10,
         10,
         60,
         40
        ],
        [
         35,
         "BURKINA FASO",
         "BURKINAB�",
         "BFA",
         "BF",
         "Ouagadougou",
         2.0321378E7,
         272967,
         50,
         160,
         10,
         20
        ],
        [
         36,
         "BURUNDI",
         "BURUNDIAN",
         "BDI",
         "BI",
         "Bujumbura",
         1.153058E7,
         27834,
         50,
         160,
         50,
         20
        ],
        [
         23,
         "BENIN",
         "BENINESE",
         "BEN",
         "BJ",
         "Porto-Novo",
         1.1801151E7,
         112622,
         50,
         160,
         10,
         20
        ],
        [
         184,
         "Saint Barth�lemy",
         "Barth�lemois",
         "BLM",
         "BL",
         "Gustavia",
         9847.0,
         21,
         10,
         10,
         60,
         40
        ]
       ],
       "datasetInfos": [],
       "dbfsResultPath": null,
       "isJsonSchema": true,
       "metadata": {
        "createTempViewForImplicitDf": true,
        "dataframeName": "_sqldf",
        "executionCount": 51
       },
       "overflow": false,
       "plotOptions": {
        "customPlotOptions": {},
        "displayType": "table",
        "pivotAggregation": null,
        "pivotColumns": null,
        "xColumns": null,
        "yColumns": null
       },
       "removedWidgets": [],
       "schema": [
        {
         "metadata": "{}",
         "name": "COUNTRY_ID",
         "type": "\"integer\""
        },
        {
         "metadata": "{}",
         "name": "NAME",
         "type": "\"string\""
        },
        {
         "metadata": "{}",
         "name": "NATIONALITY",
         "type": "\"string\""
        },
        {
         "metadata": "{}",
         "name": "COUNTRY_CODE",
         "type": "\"string\""
        },
        {
         "metadata": "{}",
         "name": "ISO_ALPHA2",
         "type": "\"string\""
        },
        {
         "metadata": "{}",
         "name": "CAPITAL",
         "type": "\"string\""
        },
        {
         "metadata": "{}",
         "name": "POPULATION",
         "type": "\"double\""
        },
        {
         "metadata": "{}",
         "name": "AREA_KM2",
         "type": "\"integer\""
        },
        {
         "metadata": "{}",
         "name": "REGION_ID",
         "type": "\"integer\""
        },
        {
         "metadata": "{}",
         "name": "SUB_REGION_ID",
         "type": "\"integer\""
        },
        {
         "metadata": "{}",
         "name": "INTERMEDIATE_REGION_ID",
         "type": "\"integer\""
        },
        {
         "metadata": "{}",
         "name": "ORGANIZATION_REGION_ID",
         "type": "\"integer\""
        }
       ],
       "type": "table"
      }
     },
     "output_type": "display_data"
    }
   ],
   "source": [
    "%sql\n",
    "select * from countries_1\n",
    "\n",
    "where\n",
    "    region_id in (10,50)\n",
    "order by iso_alpha2\n",
    "\n",
    "limit 10"
   ]
  }
 ],
 "metadata": {
  "application/vnd.databricks.v1+notebook": {
   "computePreferences": null,
   "dashboards": [],
   "environmentMetadata": {
    "base_environment": "",
    "environment_version": "1"
   },
   "inputWidgetPreferences": null,
   "language": "python",
   "notebookMetadata": {
    "mostRecentlyExecutedCommandWithImplicitDF": {
     "commandId": 3472204223576438,
     "dataframes": [
      "_sqldf"
     ]
    },
    "pythonIndentUnit": 4
   },
   "notebookName": "Merge Into Delta Table",
   "widgets": {}
  }
 },
 "nbformat": 4,
 "nbformat_minor": 0
}